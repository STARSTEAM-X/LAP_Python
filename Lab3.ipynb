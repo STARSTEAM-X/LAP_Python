{
  "nbformat": 4,
  "nbformat_minor": 0,
  "metadata": {
    "colab": {
      "provenance": [],
      "include_colab_link": true
    },
    "kernelspec": {
      "name": "python3",
      "display_name": "Python 3"
    },
    "language_info": {
      "name": "python"
    }
  },
  "cells": [
    {
      "cell_type": "markdown",
      "metadata": {
        "id": "view-in-github",
        "colab_type": "text"
      },
      "source": [
        "<a href=\"https://colab.research.google.com/github/STARSTEAM-X/LAP_Python/blob/main/Lab3.ipynb\" target=\"_parent\"><img src=\"https://colab.research.google.com/assets/colab-badge.svg\" alt=\"Open In Colab\"/></a>"
      ]
    },
    {
      "cell_type": "markdown",
      "source": [
        "# Exercise 3\n",
        "\n",
        "3.1 จากข้อมูลใน List ให้หาผลบวกเฉพาะตัวเลขคู่ โดยใช้ While Loop\n",
        "\n",
        "list1 = [1, 2, 3, 4, 5, 6, 7, 8, 9, 11, 13]\n",
        "\n"
      ],
      "metadata": {
        "id": "8LZVzcOUVMor"
      }
    },
    {
      "cell_type": "code",
      "execution_count": null,
      "metadata": {
        "id": "2cTrxjMXUE2n",
        "outputId": "2c3091fa-9fcb-43cd-f16d-1b9424bd080f",
        "colab": {
          "base_uri": "https://localhost:8080/"
        }
      },
      "outputs": [
        {
          "output_type": "stream",
          "name": "stdout",
          "text": [
            "20\n"
          ]
        }
      ],
      "source": [
        "list1 = [1, 2, 3, 4, 5, 6, 7, 8, 9, 11, 13]\n",
        "ans = 0\n",
        "for i in list1:\n",
        "  if i%2==0:\n",
        "    ans += i\n",
        "print(ans)"
      ]
    },
    {
      "cell_type": "markdown",
      "source": [
        "3.2 จากข้อมูลใน List ให้หาตัวเลขที่มีค่ามากที่สุดเป็นอันดับ 2 ใน List โดยใช้ While Loop\n",
        "\n",
        "list = [-5, 7, 10, 1, 2, 5, 8, 100]\n"
      ],
      "metadata": {
        "id": "uPvbrsO_Vimb"
      }
    },
    {
      "cell_type": "code",
      "source": [
        "List = [-5, 7, 10, 1, 2, 5, 8, 100]\n",
        "i = 0\n",
        "old_ans = 0\n",
        "ans = 0\n",
        "while i < len(List) :\n",
        "    if (List[i] >= ans):\n",
        "        old_ans = ans\n",
        "        ans = List[i]\n",
        "    i += 1\n",
        "\n",
        "print(old_ans)"
      ],
      "metadata": {
        "id": "iUeJ91zfVr1Z",
        "colab": {
          "base_uri": "https://localhost:8080/"
        },
        "outputId": "80606186-6af1-43f2-deb0-8b7f025f70dc"
      },
      "execution_count": null,
      "outputs": [
        {
          "output_type": "stream",
          "name": "stdout",
          "text": [
            "10\n"
          ]
        }
      ]
    },
    {
      "cell_type": "markdown",
      "source": [
        "3.3 เขียนโปรแกรมรับค่า n แล้วคำนวณค่าต่อไปนี้\n",
        "\n",
        "$1/1^2 + 1/2^2 + 1/3^2 + 1/4^2 + 1/5^2 + … +  1/n^2$\n"
      ],
      "metadata": {
        "id": "udBZzWe9VsU7"
      }
    },
    {
      "cell_type": "code",
      "source": [
        "n = int(input(\"\"))\n",
        "text = \"\"\n",
        "ans = 0\n",
        "for i in range(1,n+1):\n",
        "    text += f\"1/{i}**2+\"\n",
        "    ans += 1/i**2\n",
        "print(text[:-1])\n",
        "print(ans)"
      ],
      "metadata": {
        "id": "xtBw7zuxWEZ4",
        "colab": {
          "base_uri": "https://localhost:8080/"
        },
        "outputId": "f7ee1983-a11c-4684-ea51-87b12abb8dbc"
      },
      "execution_count": null,
      "outputs": [
        {
          "output_type": "stream",
          "name": "stdout",
          "text": [
            "5\n",
            "1/1**2+1/2**2+1/3**2+1/4**2+1/5**2\n",
            "1.4636111111111112\n"
          ]
        }
      ]
    },
    {
      "cell_type": "markdown",
      "source": [
        "\n",
        "\n",
        "```\n",
        "# This is formatted as code\n",
        "```\n",
        "\n",
        "3.4 จากข้อมูลใน List ให้ตรวจสอบว่า ข้อมูลในลิสต์ s เรียงลำดับจากน้อยไปมากหรือไม่ ตอบเป็น True, False\n",
        "\n",
        "\t[1,2,3,4,5], [5,4,3,2,1]\n"
      ],
      "metadata": {
        "id": "o-6AnE5zWFJJ"
      }
    },
    {
      "cell_type": "code",
      "source": [
        "# list1 = [1,2,3,4,5]\n",
        "list1 = [5,4,3,2,1]\n",
        "ans = 0\n",
        "for i,k in enumerate(list1) :\n",
        "    if (k > list1[i-1]):\n",
        "        ans +=1\n",
        "\n",
        "# print(len(list1)-1)\n",
        "# print(ans)\n",
        "\n",
        "if (ans == len(list1)-1) :\n",
        "    print(True)\n",
        "else:\n",
        "    print(False)"
      ],
      "metadata": {
        "id": "LYG2sGGgWNei",
        "colab": {
          "base_uri": "https://localhost:8080/"
        },
        "outputId": "0434b996-67d0-4219-dc0a-ba8fe3e355ea"
      },
      "execution_count": null,
      "outputs": [
        {
          "output_type": "stream",
          "name": "stdout",
          "text": [
            "False\n"
          ]
        }
      ]
    },
    {
      "cell_type": "markdown",
      "source": [
        "3.5  ให้ x เป็นลิสต์เก็บคะแนน ต้องการปรับช่องที่มีค่าน้อยกว่า 30 ให้มีค่าเพิ่มอีก 10% แสดงผลลัพธ์ เป็น List\n",
        "\n",
        "\tx = [60, 70, 72, 65, 55, 43, 20, 90, 12]\n"
      ],
      "metadata": {
        "id": "Hv-fE32hWOBd"
      }
    },
    {
      "cell_type": "code",
      "source": [
        "x = [60, 70, 72, 65, 55, 43, 20, 90, 12]\n",
        "new_list = []\n",
        "for i in x :\n",
        "    if (i < 30):\n",
        "        i = i*110/100\n",
        "        new_list.append(i)\n",
        "    else :\n",
        "        new_list.append(i)\n",
        "\n",
        "print(new_list)"
      ],
      "metadata": {
        "id": "BSFOJ_8GWTtL",
        "colab": {
          "base_uri": "https://localhost:8080/"
        },
        "outputId": "fc9c55a6-3706-495e-ad55-e7e84259a9b8"
      },
      "execution_count": null,
      "outputs": [
        {
          "output_type": "stream",
          "name": "stdout",
          "text": [
            "[60, 70, 72, 65, 55, 43, 22.0, 90, 13.2]\n"
          ]
        }
      ]
    },
    {
      "cell_type": "markdown",
      "source": [
        "3.6 ต้องการหาผลรวมของคะแนนที่เก็บในลิสต์ x โดยขอไม่รวมคะแนนที่น้อยสุดอันดับ 2\n",
        "\n",
        "---\n",
        "\n",
        "\n",
        "\n",
        "\tx = [15, 80, 75, 62, 55, 43, 99, 67, 10]\n"
      ],
      "metadata": {
        "id": "IDw88nQbWUTw"
      }
    },
    {
      "cell_type": "code",
      "source": [
        "x = [15, 80, 75, 62, 55, 43, 99, 67, 10]\n",
        "\n",
        "MIN1 = 99999999999999999999999999999999999999999999999999999999\n",
        "MIN2 = 99999999999999999999999999999999999999999999999999999999\n",
        "\n",
        "for i in x :\n",
        "    if(i < MIN1) :\n",
        "        MIN1 = i\n",
        "\n",
        "for j in x :\n",
        "    if(j > MIN1 and j < MIN2) :\n",
        "        MIN2 = j\n",
        "\n",
        "# x.remove(MIN1)\n",
        "x.remove(MIN2)\n",
        "ans = 0\n",
        "for i in x :\n",
        "    ans += i\n",
        "print(ans)"
      ],
      "metadata": {
        "id": "Aool1F22WZKI",
        "colab": {
          "base_uri": "https://localhost:8080/"
        },
        "outputId": "38ce44ff-e2fa-454d-a49d-d9621153f85c"
      },
      "execution_count": null,
      "outputs": [
        {
          "output_type": "stream",
          "name": "stdout",
          "text": [
            "481\n"
          ]
        }
      ]
    },
    {
      "cell_type": "markdown",
      "source": [
        "3.7 จากข้อมูลใน List ให้แสดง string ที่มีความยาวมากกว่า 2\n",
        "\n",
        "1.   List item\n",
        "2.   List item\n",
        "\n",
        "และมีอักษรตัวแรกกับตัวสุดท้ายเหมือนกัน แสดงบรรทัดละ 1 ตัว\n",
        "\n",
        "\tlst = ['abba', 'a', 'aa', 'alcaza', 'python', 'stores', 'program', 'execute']\n"
      ],
      "metadata": {
        "id": "92oZ0IQdWZkF"
      }
    },
    {
      "cell_type": "code",
      "source": [
        "lst = ['abba', 'a', 'aa', 'alcaza', 'python', 'stores', 'program', 'execute']\n",
        "ans = []\n",
        "\n",
        "for i in lst :\n",
        "    if(len(i) > 2 and i[0] == i[-1] ):\n",
        "        ans.append(i)\n",
        "\n",
        "for i in ans:\n",
        "    print(i)"
      ],
      "metadata": {
        "id": "i3vr0x1vWiHH",
        "colab": {
          "base_uri": "https://localhost:8080/"
        },
        "outputId": "bb9ed94c-0a06-432c-8436-11c748b60ea9"
      },
      "execution_count": null,
      "outputs": [
        {
          "output_type": "stream",
          "name": "stdout",
          "text": [
            "abba\n",
            "alcaza\n",
            "stores\n",
            "execute\n"
          ]
        }
      ]
    },
    {
      "cell_type": "markdown",
      "source": [
        "3.8 จากข้อมูลใน List ให้ลบข้อมูลที่มีซ้ำกันให้เหลือเพียงตัวเดียว ให้แสดงผลเป็น list เช่น\n",
        "\n",
        "[‘a’,’a’] => [‘a’]\n",
        "\n",
        "lst = ['a', 'a', 'b', 'a', 'b', 'c', 'd']\n"
      ],
      "metadata": {
        "id": "QicYHZbcWi8U"
      }
    },
    {
      "cell_type": "code",
      "source": [
        "lst = ['a', 'a', 'b', 'a', 'b', 'c', 'd']\n",
        "ans = []\n",
        "for i in lst:\n",
        "    if (i not in ans ):\n",
        "        ans.append(i)\n",
        "\n",
        "print(ans)"
      ],
      "metadata": {
        "id": "saXxuMceWzd2",
        "colab": {
          "base_uri": "https://localhost:8080/"
        },
        "outputId": "cdb6039a-a8e9-4994-977b-536439791914"
      },
      "execution_count": null,
      "outputs": [
        {
          "output_type": "stream",
          "name": "stdout",
          "text": [
            "['a', 'b', 'c', 'd']\n"
          ]
        }
      ]
    },
    {
      "cell_type": "markdown",
      "source": [
        "3.9 จากข้อมูลใน List ให้แสดงว่าแต่ละข้อมูลใน List มีจำนวนเท่าไร คือ มีซ้ำกันกี่ตัวใน List  ให้แสดงบรรทัดละตัว เช่น\n",
        "\n",
        "\t[1, 2, 3, 4, 1, 2, 3, 1, 2, 1]\n",
        "\t1 = 4\n",
        "\t2 = 3\n",
        "\t3 = 2\n",
        "\t4 = 1\n",
        "  \n",
        "\tlst = [1,2,3,4,5,1,2,3,4,1,2,3,1,2,1]"
      ],
      "metadata": {
        "id": "Dl6OEM9nWz8s"
      }
    },
    {
      "cell_type": "code",
      "source": [
        "lst = [1,2,3,4,5,1,2,3,4,1,2,3,1,2,1]\n",
        "\n",
        "Main_list = []\n",
        "for i in lst:\n",
        "    if (i not in Main_list):\n",
        "        Main_list.append(i)\n",
        "\n",
        "Count_list = [0] * len(Main_list)\n",
        "for m,e in enumerate(Main_list):\n",
        "    for i in lst:\n",
        "        if(e == i):\n",
        "            # print(f\"{e} == {i} || LOOP :{m}\")\n",
        "            Count_list[m] += 1\n",
        "print(lst)\n",
        "for i,e in enumerate(Main_list):\n",
        "    print(f\"{e} = {Count_list[i]}\")\n"
      ],
      "metadata": {
        "id": "Dm0dAivtW7vQ",
        "colab": {
          "base_uri": "https://localhost:8080/"
        },
        "outputId": "03eaf562-9b08-41cb-a78f-c06fac7d2be1"
      },
      "execution_count": null,
      "outputs": [
        {
          "output_type": "stream",
          "name": "stdout",
          "text": [
            "[1, 2, 3, 4, 5, 1, 2, 3, 4, 1, 2, 3, 1, 2, 1]\n",
            "1 = 5\n",
            "2 = 4\n",
            "3 = 3\n",
            "4 = 2\n",
            "5 = 1\n"
          ]
        }
      ]
    },
    {
      "cell_type": "markdown",
      "source": [
        "1.\tเขียนโปรแกรมเพื่อหาผลบวกของอนุกรม 5+10+15+20+… จนถึง n เมื่อ n\n",
        "\n",
        "*   List item\n",
        "*   List item\n",
        "\n",
        "เป็นตัวเลขที่รับเข้ามาทางคีย์บอร์ด"
      ],
      "metadata": {
        "id": "GgbgWOV6W8Nn"
      }
    },
    {
      "cell_type": "code",
      "source": [
        "n = int(input(\"Input : \"))\n",
        "text = \"\"\n",
        "number = 5\n",
        "ans = 0\n",
        "for i in range(1,n+1):\n",
        "    text += str( number*i )\n",
        "    text += \"+\"\n",
        "    ans  += number*i\n",
        "\n",
        "print(text[:-1])\n",
        "print(ans)"
      ],
      "metadata": {
        "id": "9cCHZsLhXGKm",
        "colab": {
          "base_uri": "https://localhost:8080/"
        },
        "outputId": "34099b47-ff8f-462f-cdfa-0747d3da2604"
      },
      "execution_count": null,
      "outputs": [
        {
          "output_type": "stream",
          "name": "stdout",
          "text": [
            "Input : 5\n",
            "5+10+15+20+25\n",
            "75\n"
          ]
        }
      ]
    },
    {
      "cell_type": "markdown",
      "source": [
        "2.\tจงเขียนโปรแกรมที่จะหาตัวเลขระหว่าง 2000-3200 ที่หารด้วย 7 ลงตัว แต่หารด้วย 5 ไม่ลงตัว\n",
        "การแสดงผลให้แสดงตัวเลขและคั่นด้วยเครื่องหมาย , ในบรรทัดเดียว\n",
        "\n",
        "2002,2009,2016,2023,2037,2044,2051,2058,2072,2079,2086,2093,2107,2114,2121,2128,2142,2149,2156,2163,2177,2184,2191,2198,2212,2219,2226,2233,2247,2254,2261,2268,2282,2289,2296,2303,2317,2324,2331,2338,2352,2359,2366,2373,2387,2394,2401,2408,2422,2429,2436,2443,2457,2464,2471,2478,2492,2499,2506,2513,2527,2534,2541,2548,2562,2569,2576,2583,2597,2604,2611,2618,2632,2639,2646,2653,2667,2674,2681,2688,2702,2709,2716,2723,2737,2744,2751,2758,2772,2779,2786,2793,2807,2814,2821,2828,2842,2849,2856,2863,2877,2884,2891,2898,2912,2919,2926,2933,2947,2954,2961,2968,2982,2989,2996,3003,3017,3024,3031,3038,3052,3059,3066,3073,3087,3094,3101,3108,3122,3129,3136,3143,3157,3164,3171,3178,3192,3199,"
      ],
      "metadata": {
        "id": "aujapFNTXGsV"
      }
    },
    {
      "cell_type": "code",
      "source": [
        "for i in range(2000,3201):\n",
        "    if ((i % 7 == 0) and (i % 5 != 0) ):\n",
        "        print(i ,end=\",\")"
      ],
      "metadata": {
        "id": "L-kIF3-nXJqR",
        "colab": {
          "base_uri": "https://localhost:8080/"
        },
        "outputId": "f91a1dd0-9146-4fa1-a5b4-f85c769d300c"
      },
      "execution_count": null,
      "outputs": [
        {
          "output_type": "stream",
          "name": "stdout",
          "text": [
            "2002,2009,2016,2023,2037,2044,2051,2058,2072,2079,2086,2093,2107,2114,2121,2128,2142,2149,2156,2163,2177,2184,2191,2198,2212,2219,2226,2233,2247,2254,2261,2268,2282,2289,2296,2303,2317,2324,2331,2338,2352,2359,2366,2373,2387,2394,2401,2408,2422,2429,2436,2443,2457,2464,2471,2478,2492,2499,2506,2513,2527,2534,2541,2548,2562,2569,2576,2583,2597,2604,2611,2618,2632,2639,2646,2653,2667,2674,2681,2688,2702,2709,2716,2723,2737,2744,2751,2758,2772,2779,2786,2793,2807,2814,2821,2828,2842,2849,2856,2863,2877,2884,2891,2898,2912,2919,2926,2933,2947,2954,2961,2968,2982,2989,2996,3003,3017,3024,3031,3038,3052,3059,3066,3073,3087,3094,3101,3108,3122,3129,3136,3143,3157,3164,3171,3178,3192,3199,"
          ]
        }
      ]
    },
    {
      "cell_type": "markdown",
      "source": [
        "3.\tจากข้อมูลใน List ต้องการนับว่า มีข้อมูลกี่คู่ในลิสต์ที่ตัวทางซ้ายมีค่ามากกว่าตัวทางขวา (ไม่จำเป็นต้องอยู่ติดกัน)\n",
        "\n",
        "x = [1, 5, 4, 2, 1]"
      ],
      "metadata": {
        "id": "FCZpmtuFXKUl"
      }
    },
    {
      "cell_type": "code",
      "source": [
        "x = [1, 5, 4, 2, 1]\n",
        "# x = [-1,-10,5,10,3,7,7]\n",
        "# x = []\n",
        "\n",
        "\n",
        "ans = 0\n",
        "\n",
        "for i,j in enumerate(x) :\n",
        "    # print(\"LOOP\" ,i ,\"------------------------\")\n",
        "    # print(x[i+1:])\n",
        "    for k in x[i+1:] :\n",
        "        if(j > k):\n",
        "            # print(j,\">\" ,k)\n",
        "            ans += 1\n",
        "print(ans)"
      ],
      "metadata": {
        "id": "VBgfWEXuXjQH",
        "colab": {
          "base_uri": "https://localhost:8080/"
        },
        "outputId": "2c4c40e3-aca9-41bd-d276-d7a2e447e41c"
      },
      "execution_count": null,
      "outputs": [
        {
          "output_type": "stream",
          "name": "stdout",
          "text": [
            "6\n"
          ]
        }
      ]
    },
    {
      "cell_type": "markdown",
      "source": [
        "\\4.\tให้ตรวจสอบว่า String ที่รับเข้ามาผ่านคีย์บอร์ด เป็นตัวอักษรพิมพ์เล็ก\n",
        "\n",
        "*   List item\n",
        "*   List item\n",
        "\n",
        "หรือตัวอักษรพิมพ์ใหญ่ อย่างละกี่ตัว ตอบ 2 บรรทัด พิมพ์เล็ก 1 บรรทัด พิมพ์ใหญ่ 1 บรรทัด\n",
        "\n",
        "klfjslkgD;FGK;LSDKdl;gfk;\n",
        "=> 18,3"
      ],
      "metadata": {
        "id": "UAEC1_jdXjya"
      }
    },
    {
      "cell_type": "code",
      "source": [
        "# string = input()\n",
        "string = \"klfjslkgD;FGK;LSDKdl;gfk;\"\n",
        "\n",
        "Character_lower =0\n",
        "Character_upper =0\n",
        "\n",
        "for char in string:\n",
        "    if (\"a\" <= char <= \"z\"):\n",
        "        Character_lower += 1\n",
        "    if (\"A\" <= char <= \"Z\"):\n",
        "        Character_upper += 1\n",
        "\n",
        "print(f\"Character Lower : {Character_lower}\")\n",
        "print(f\"Character Upper : {Character_upper}\")"
      ],
      "metadata": {
        "id": "rSYwEhjEYY8N",
        "colab": {
          "base_uri": "https://localhost:8080/"
        },
        "outputId": "a47008e1-01e3-4886-d99e-ef1a4cbd92cf"
      },
      "execution_count": null,
      "outputs": [
        {
          "output_type": "stream",
          "name": "stdout",
          "text": [
            "Character Lower : 13\n",
            "Character Upper : 8\n"
          ]
        }
      ]
    },
    {
      "cell_type": "markdown",
      "source": [
        "5.\tจงเขียนโปรแกรมที่หาตัวเลขระหว่าง 1000 และ 3000 ที่ทุกหลักเป็นเลขคู่ (รวม 1000 และ 3000) โดยแสดงผลในรูปแบบตัวเลขคั่นด้วย comma\n",
        "\n",
        "2000,2002,2004,2006,2008,2020,2022,2024,2026,2028,2040,2042,2044,2046,2048,2060,2062,2064,2066,2068,2080,2082,2084,2086,2088,2200,2202,2204,2206,2208,2220,2222,2224,2226,2228,2240,2242,2244,2246,2248,2260,2262,2264,2266,2268,2280,2282,2284,2286,2288,2400,2402,2404,2406,2408,2420,2422,2424,2426,2428,2440,2442,2444,2446,2448,2460,2462,2464,2466,2468,2480,2482,2484,2486,2488,2600,2602,2604,2606,2608,2620,2622,2624,2626,2628,2640,2642,2644,2646,2648,2660,2662,2664,2666,2668,2680,2682,2684,2686,2688,2800,2802,2804,2806,2808,2820,2822,2824,2826,2828,2840,2842,2844,2846,2848,2860,2862,2864,2866,2868,2880,2882,2884,2886,2888,"
      ],
      "metadata": {
        "id": "lBtvmw_sYYX_"
      }
    },
    {
      "cell_type": "code",
      "source": [
        "X = [\"1\",\"3\",\"5\",\"7\",\"9\"]\n",
        "ans = \"\"\n",
        "for i in range(1000,3001):\n",
        "    string = str(i)\n",
        "    for j in string :\n",
        "        if( j not in str(X)):\n",
        "            ans += j\n",
        "    # print(ans)\n",
        "    if(len(ans) == 4 and (i%2 ==0)):\n",
        "        print(string ,end=\",\")\n",
        "    ans = \"\""
      ],
      "metadata": {
        "id": "VvChTQMjYqYi",
        "colab": {
          "base_uri": "https://localhost:8080/"
        },
        "outputId": "0450c063-743d-4ed1-d19b-2ab1f545c395"
      },
      "execution_count": null,
      "outputs": [
        {
          "output_type": "stream",
          "name": "stdout",
          "text": [
            "2000,2002,2004,2006,2008,2020,2022,2024,2026,2028,2040,2042,2044,2046,2048,2060,2062,2064,2066,2068,2080,2082,2084,2086,2088,2200,2202,2204,2206,2208,2220,2222,2224,2226,2228,2240,2242,2244,2246,2248,2260,2262,2264,2266,2268,2280,2282,2284,2286,2288,2400,2402,2404,2406,2408,2420,2422,2424,2426,2428,2440,2442,2444,2446,2448,2460,2462,2464,2466,2468,2480,2482,2484,2486,2488,2600,2602,2604,2606,2608,2620,2622,2624,2626,2628,2640,2642,2644,2646,2648,2660,2662,2664,2666,2668,2680,2682,2684,2686,2688,2800,2802,2804,2806,2808,2820,2822,2824,2826,2828,2840,2842,2844,2846,2848,2860,2862,2864,2866,2868,2880,2882,2884,2886,2888,"
          ]
        }
      ]
    },
    {
      "cell_type": "markdown",
      "source": [
        "6.\tในคณิตศาสตร์ ตัวหารร่วมมาก หรือ ห.ร.ม. (greatest common divisor: gcd) ของจำนวนเต็มสองจำนวนซึ่งไม่เป็นศูนย์พร้อมกัน คือจำนวนเต็มที่มากที่สุดที่หารทั้งสองจำนวนลงตัว\n",
        "จงหา ห.ร.ม. ของจำนวนเต็ม 2 จำนวนที่กำหนดให้\n",
        "ข้อมูลนำเข้า\n",
        "บรรทัดแรกเพียงบรรทัดเดียว ประกอบไปด้วยจำนวนเต็มบวกสองจำนวน a และ b มีค่าไม่เกิน 9999\n",
        "ข้อมูลส่งออก\n",
        "ในบรรทัดแรกของข้อมูลส่งออก ให้แสดงค่า ห.ร.ม. ของ a และ b\n",
        "เช่น \tInput : 12 14\t\tOutput : 2\n",
        "\tInput : 7 3\t\tOutput : 1\n",
        "\n",
        "678\n",
        "345\n",
        "=> 3"
      ],
      "metadata": {
        "id": "6TCedRC8YqyU"
      }
    },
    {
      "cell_type": "code",
      "source": [
        "a, b = input(\"N1 N2: \").split()\n",
        "a = int(a)\n",
        "b = int(b)\n",
        "\n",
        "ans = 0\n",
        "\n",
        "while b:\n",
        "    a, b = b, a % b\n",
        "    ans = a\n",
        "\n",
        "print(ans)"
      ],
      "metadata": {
        "id": "yrD4p2Q6Y6qr",
        "colab": {
          "base_uri": "https://localhost:8080/"
        },
        "outputId": "8bce6ffd-1e5e-4746-b36f-da6c1bf3bdd3"
      },
      "execution_count": null,
      "outputs": [
        {
          "output_type": "stream",
          "name": "stdout",
          "text": [
            "N1 N2: 678 345\n",
            "3\n"
          ]
        }
      ]
    },
    {
      "cell_type": "markdown",
      "source": [
        "7.\tจงเขียนโปรแกรมที่คำนวณค่าของ a+aa+aaa+aaaa เมื่อรับข้อมูลเป็นตัวเลข 1 หลัก\n",
        "\n",
        "Input : 9\n",
        "\n",
        "Output : 11106 (=9+99+999+9999)\n"
      ],
      "metadata": {
        "id": "DW9riUdiY7KK"
      }
    },
    {
      "cell_type": "code",
      "source": [
        "# จงเขียนโปรแกรมที่คำนวณค่าของ a+aa+aaa+aaaa เมื่อรับข้อมูลเป็นตัวเลข 1 หลัก\n",
        "# Input : 9\n",
        "\n",
        "# Output : 11106 (=9+99+999+9999)\n",
        "\n",
        "INPUT = 9\n",
        "ans = 0\n",
        "text_temp = \"\"\n",
        "text = \"=\"\n",
        "if (INPUT < 0 or INPUT > 9) :\n",
        "    print(\"Error\")\n",
        "else :\n",
        "    for i in range(4) :\n",
        "        text_temp += str(INPUT)\n",
        "        text +=  text_temp+\"+\"\n",
        "        ans += int(text_temp)\n",
        "    print(str(ans) ,f\"({text[:-1]})\")"
      ],
      "metadata": {
        "id": "iAZlPfC4Y-GG"
      },
      "execution_count": null,
      "outputs": []
    },
    {
      "cell_type": "markdown",
      "source": [
        "8.\tแปลงเลขโรมัน เป็นเลขอารบิก เช่น MMMDCCXXIV = 3724 (ค้นหาวิธีทางทางอินเตอร์เน็ต)\n"
      ],
      "metadata": {
        "id": "G3jPCyruZAZY"
      }
    },
    {
      "cell_type": "code",
      "source": [
        "# roman = input(\"เลขโรมัน: \")\n",
        "roman = \"MMMDCCXXIV\"\n",
        "roman_numerals = {\n",
        "    'I': 1,\n",
        "    'V': 5,\n",
        "    'X': 10,\n",
        "    'L': 50,\n",
        "    'C': 100,\n",
        "    'D': 500,\n",
        "    'M': 1000\n",
        "}\n",
        "\n",
        "arabic = 0\n",
        "prev_value = 0\n",
        "\n",
        "for char in reversed(roman): #หลังไปหน้า\n",
        "    value = roman_numerals[char] #เอาตัวอัคษร ที่ได้ไป เอาค่าตัวเลขใน JSON roman_numerals\n",
        "    # print(value)\n",
        "    if value < prev_value:  #เช็คว่า ค่า value น้อยกว่าค่า prev_value\n",
        "        arabic -= value     #ถ้าน้อยกว่าให้เอาคำตอบมาลบด้วยค่า value Ex IX = X = 10, I = 1 IX = 10-1 = 9\n",
        "    else:                   #ถ้าค่า value ไม่น้อยกว่า prev_value\n",
        "        arabic += value     #ให้เอาคำตอบมาบวกกับค่า value EX II I=1 = 1+1 = 2\n",
        "    prev_value = value      #ค่า prev_value = ค่า value เพื่อเอาไว้เช็คว่า value < prev_value หรือไม่\n",
        "\n",
        "print(arabic)"
      ],
      "metadata": {
        "id": "6RBWGF4IZGnc",
        "colab": {
          "base_uri": "https://localhost:8080/"
        },
        "outputId": "8a36b7ce-4190-4e61-a2f0-ad81c41685ea"
      },
      "execution_count": null,
      "outputs": [
        {
          "output_type": "stream",
          "name": "stdout",
          "text": [
            "3724\n"
          ]
        }
      ]
    },
    {
      "cell_type": "markdown",
      "source": [
        "9.\tอนุกรม Fibonacci คือ อนุกรมที่ตัวที่ 3 เป็นต้นไปเกิดจาก 2 ตัวหน้าบวกกัน จงเขียนโปรแกรมแสดงอนุกรม\n",
        "เช่น ตั้งแต่ 0-1000 คือ 0, 1, 1, 2, 3, 5, 8, 13, 21, 34, 55, 89, 144, 233, 377, 610, 987\n"
      ],
      "metadata": {
        "id": "SJBVkaFHZHKe"
      }
    },
    {
      "cell_type": "code",
      "source": [
        "limit = 1000\n",
        "\n",
        "List = [0, 1]\n",
        "\n",
        "while True:\n",
        "    Next_List = List[-1] + List[-2]\n",
        "    if Next_List > limit:\n",
        "        break\n",
        "    List.append(Next_List)\n",
        "print(List)"
      ],
      "metadata": {
        "id": "Vdtc9KqSZLls",
        "colab": {
          "base_uri": "https://localhost:8080/"
        },
        "outputId": "ab7ddb2a-164d-4057-bbc7-83013f3c1e81"
      },
      "execution_count": null,
      "outputs": [
        {
          "output_type": "stream",
          "name": "stdout",
          "text": [
            "[0, 1, 1, 2, 3, 5, 8, 13, 21, 34, 55, 89, 144, 233, 377, 610, 987]\n"
          ]
        }
      ]
    },
    {
      "cell_type": "markdown",
      "source": [
        "10.\tให้สร้างโปรแกรม True Love โดยรับชื่อภาษาอังกฤษของ 2 คน จากนั้นค้นหาว่ามีตัวอักษรอยู่ในคำว่า True และ Love รวมกันกี่ตัว จากนั้นนำมาต่อกันเป็น % ตามรูป (ไม่ต้องแสดงเครื่องหมาย %)"
      ],
      "metadata": {
        "id": "1ykDG1H4ZKd4"
      }
    },
    {
      "cell_type": "code",
      "source": [
        "# name1 = input(\"Name 1 :\")\n",
        "# name2 = input(\"Name 2 :\")\n",
        "\n",
        "# name1 = \"Punyapat Ruangsutthi\"\n",
        "# name2 = \"Eugeneia Dagmara\" #https://www.behindthename.com/random/\n",
        "\n",
        "name1 = \"Krystie Lee Yandoli\"\n",
        "name2 = \"Aubrey Drake Graham\"\n",
        "\n",
        "true_love_lower = 'truelove'\n",
        "true_love_upper = 'TRUELOVE'\n",
        "\n",
        "t1 = 0\n",
        "r1 = 0\n",
        "u1 = 0\n",
        "e1 = 0\n",
        "l1 = 0\n",
        "o1 = 0\n",
        "v1 = 0\n",
        "\n",
        "for i in name1 :\n",
        "    if(i == \"t\"):\n",
        "        t1 += 1\n",
        "    if(i == \"r\"):\n",
        "        r1 += 1\n",
        "    if(i == \"u\"):\n",
        "        u1 += 1\n",
        "    if(i == \"e\"):\n",
        "        e1 += 1\n",
        "    if(i == \"l\"):\n",
        "        l1 += 1\n",
        "    if(i == \"o\"):\n",
        "        o1 += 1\n",
        "    if(i == \"v\"):\n",
        "        v1 += 1\n",
        "    if(i == \"T\"):\n",
        "        t1 += 1\n",
        "    if(i == \"R\"):\n",
        "        r1 += 1\n",
        "    if(i == \"U\"):\n",
        "        u1 += 1\n",
        "    if(i == \"E\"):\n",
        "        e1 += 1\n",
        "    if(i == \"L\"):\n",
        "        l1 += 1\n",
        "    if(i == \"O\"):\n",
        "        o1 += 1\n",
        "    if(i == \"V\"):\n",
        "        v1 += 1\n",
        "\n",
        "for i in name2 :\n",
        "    if(i == \"t\"):\n",
        "        t1 += 1\n",
        "    if(i == \"r\"):\n",
        "        r1 += 1\n",
        "    if(i == \"u\"):\n",
        "        u1 += 1\n",
        "    if(i == \"e\"):\n",
        "        e1 += 1\n",
        "    if(i == \"l\"):\n",
        "        l1 += 1\n",
        "    if(i == \"o\"):\n",
        "        o1 += 1\n",
        "    if(i == \"v\"):\n",
        "        v1 += 1\n",
        "    if(i == \"T\"):\n",
        "        t1 += 1\n",
        "    if(i == \"R\"):\n",
        "        r1 += 1\n",
        "    if(i == \"U\"):\n",
        "        u1 += 1\n",
        "    if(i == \"E\"):\n",
        "        e1 += 1\n",
        "    if(i == \"L\"):\n",
        "        l1 += 1\n",
        "    if(i == \"O\"):\n",
        "        o1 += 1\n",
        "    if(i == \"V\"):\n",
        "        v1 += 1\n",
        "\n",
        "percent = 0\n",
        "n1 = name1.split(\" \")\n",
        "n2 = name2.split(\" \")\n",
        "len_char = len(n1)+len(n2)\n",
        "Count_true_love = t1+r1+u1+e1+l1+o1+v1\n",
        "percent = str(t1+r1+u1+e1)+str(l1+o1+v1+e1)\n",
        "\n",
        "print(F\"{name1}\")\n",
        "print(F\"{name2}\")\n",
        "print(F\"T : {t1}  |  L : {l1}\")\n",
        "print(F\"R : {r1}  |  O : {o1}\")\n",
        "print(F\"U : {u1}  |  V : {v1}\")\n",
        "print(F\"E : {e1}  |  E : {e1}\")\n",
        "print(F\"---------------------\")\n",
        "print(F\"Percent = {percent} %\")"
      ],
      "metadata": {
        "id": "syOZPpj2ZPaA",
        "colab": {
          "base_uri": "https://localhost:8080/"
        },
        "outputId": "c4f85bf2-1a56-4601-9de6-b73b6b70f88f"
      },
      "execution_count": null,
      "outputs": [
        {
          "output_type": "stream",
          "name": "stdout",
          "text": [
            "Krystie Lee Yandoli\n",
            "Aubrey Drake Graham\n",
            "T : 1  |  L : 2\n",
            "R : 4  |  O : 1\n",
            "U : 1  |  V : 0\n",
            "E : 5  |  E : 5\n",
            "---------------------\n",
            "Percent = 118 %\n"
          ]
        }
      ]
    }
  ]
}