{
  "nbformat": 4,
  "nbformat_minor": 0,
  "metadata": {
    "colab": {
      "provenance": [],
      "include_colab_link": true
    },
    "kernelspec": {
      "name": "python3",
      "display_name": "Python 3"
    },
    "language_info": {
      "name": "python"
    }
  },
  "cells": [
    {
      "cell_type": "markdown",
      "metadata": {
        "id": "view-in-github",
        "colab_type": "text"
      },
      "source": [
        "<a href=\"https://colab.research.google.com/github/STARSTEAM-X/LAP_Python/blob/main/Lab5.ipynb\" target=\"_parent\"><img src=\"https://colab.research.google.com/assets/colab-badge.svg\" alt=\"Open In Colab\"/></a>"
      ]
    },
    {
      "cell_type": "markdown",
      "source": [
        "รหัสนักศึกษา : 66015xxx ชื่อ :"
      ],
      "metadata": {
        "id": "ayuUhdui4PbN"
      }
    },
    {
      "cell_type": "markdown",
      "source": [
        "Exercise 5.1 ให้เขียน function ชื่อ day_of_year(day, month ,year) โดยมีการคืนค่า คือ day_of_years เป็นวันที่ลำดับที่เท่าใดของปีคริสตศักราช year\n",
        "ปีที่เป็น Leap Year เดือนกุมภาพันธ์จะมี 29 วัน\n",
        "ให้สร้างฟังก์ชัน is_leap เพื่อตรวจสอบ leap year แยกออกมา และให้ฟังก์ชัน day_of_year เรียกใช้ is_leap อีกที\n"
      ],
      "metadata": {
        "id": "ZXM4rXQB6Q9o"
      }
    },
    {
      "cell_type": "code",
      "source": [
        "days_in_month = [31, 28, 31, 30, 31, 30, 31, 31, 30, 31, 30, 31]\n",
        "\n",
        "def leap_year(year):\n",
        "  pass\n",
        "\n",
        "def day_of_year(day, month, year):\n",
        "  pass\n",
        "\n",
        "# Testcases\n",
        "print(\"Normal year (2023):\")\n",
        "print(f\"1 Jan 2023: {day_of_year(1, 1, 2023)}\")  # ควรได้ 1\n",
        "print(f\"1 Feb 2023: {day_of_year(1, 2, 2023)}\")  # ควรได้ 32\n",
        "print(f\"1 Mar 2023: {day_of_year(1, 3, 2023)}\")  # ควรได้ 60\n",
        "print(f\"31 Dec 2023: {day_of_year(31, 12, 2023)}\")  # ควรได้ 365\n",
        "\n",
        "print(\"\\nLeap year (2024):\")\n",
        "print(f\"1 Jan 2024: {day_of_year(1, 1, 2024)}\")  # ควรได้ 1\n",
        "print(f\"29 Feb 2024: {day_of_year(29, 2, 2024)}\")  # ควรได้ 60\n",
        "print(f\"1 Mar 2024: {day_of_year(1, 3, 2024)}\")  # ควรได้ 61\n",
        "print(f\"31 Dec 2024: {day_of_year(31, 12, 2024)}\")  # ควรได้ 366\n",
        "\n",
        "print(\"\\nCentury year, not a leap year (1900):\")\n",
        "print(f\"1 Mar 1900: {day_of_year(1, 3, 1900)}\")  # ควรได้ 60\n",
        "\n",
        "print(\"\\nCentury year, leap year (2000):\")\n",
        "print(f\"1 Mar 2000: {day_of_year(1, 3, 2000)}\")  # ควรได้ 61\n",
        "\n",
        "print(\"\\nMid-year dates:\")\n",
        "print(f\"15 Jun 2023: {day_of_year(15, 6, 2023)}\")  # ควรได้ 166\n",
        "print(f\"15 Jun 2024: {day_of_year(15, 6, 2024)}\")  # ควรได้ 167 (Leap year)\n",
        "\n",
        "print(\"\\nLast day of each quarter:\")\n",
        "print(f\"31 Mar 2023: {day_of_year(31, 3, 2023)}\")  # ควรได้ 90\n",
        "print(f\"30 Jun 2023: {day_of_year(30, 6, 2023)}\")  # ควรได้ 181\n",
        "print(f\"30 Sep 2023: {day_of_year(30, 9, 2023)}\")  # ควรได้ 273\n",
        "print(f\"31 Dec 2023: {day_of_year(31, 12, 2023)}\")  # ควรได้ 365"
      ],
      "metadata": {
        "id": "oerlrWw46aJZ"
      },
      "execution_count": null,
      "outputs": []
    },
    {
      "cell_type": "code",
      "source": [
        "days_in_month = [31, 28, 31, 30, 31, 30, 31, 31, 30, 31, 30, 31]\n",
        "\n",
        "def leap_year(year):\n",
        "    if (year % 400 == 0) and (year % 100 == 0):\n",
        "        return True\n",
        "    elif (year % 4 ==0) and (year % 100 != 0):\n",
        "        return True\n",
        "\n",
        "    else:\n",
        "        return False\n",
        "\n",
        "def day_of_year(day, month, year):\n",
        "\n",
        "    if(leap_year(year)):\n",
        "        days_in_month[1] = 29\n",
        "    else:\n",
        "        days_in_month[1] = 28\n",
        "\n",
        "    day_totle = 0\n",
        "    day_remove = day\n",
        "\n",
        "    for i in range(month):\n",
        "        if(day_remove != 0 and i+1 == month):\n",
        "            day_totle += day_remove\n",
        "            day_remove = 0\n",
        "        else:\n",
        "            day_totle += days_in_month[i]\n",
        "    return day_totle\n",
        "\n",
        "print(\"Normal year (2023):\")\n",
        "print(f\"1 Jan 2023: {day_of_year(1, 1, 2023)}\")  # ควรได้ 1\n",
        "print(f\"1 Feb 2023: {day_of_year(1, 2, 2023)}\")  # ควรได้ 32\n",
        "print(f\"1 Mar 2023: {day_of_year(1, 3, 2023)}\")  # ควรได้ 60\n",
        "print(f\"31 Dec 2023: {day_of_year(31, 12, 2023)}\")  # ควรได้ 365\n",
        "\n",
        "print(\"\\nLeap year (2024):\")\n",
        "print(f\"1 Jan 2024: {day_of_year(1, 1, 2024)}\")  # ควรได้ 1\n",
        "print(f\"29 Feb 2024: {day_of_year(29, 2, 2024)}\")  # ควรได้ 60\n",
        "print(f\"1 Mar 2024: {day_of_year(1, 3, 2024)}\")  # ควรได้ 61\n",
        "print(f\"31 Dec 2024: {day_of_year(31, 12, 2024)}\")  # ควรได้ 366\n",
        "\n",
        "print(\"\\nCentury year, not a leap year (1900):\")\n",
        "print(f\"1 Mar 1900: {day_of_year(1, 3, 1900)}\")  # ควรได้ 60\n",
        "\n",
        "print(\"\\nCentury year, leap year (2000):\")\n",
        "print(f\"1 Mar 2000: {day_of_year(1, 3, 2000)}\")  # ควรได้ 61\n",
        "\n",
        "print(\"\\nMid-year dates:\")\n",
        "print(f\"15 Jun 2023: {day_of_year(15, 6, 2023)}\")  # ควรได้ 166\n",
        "print(f\"15 Jun 2024: {day_of_year(15, 6, 2024)}\")  # ควรได้ 167 (Leap year)\n",
        "\n",
        "print(\"\\nLast day of each quarter:\")\n",
        "print(f\"31 Mar 2023: {day_of_year(31, 3, 2023)}\")  # ควรได้ 90\n",
        "print(f\"30 Jun 2023: {day_of_year(30, 6, 2023)}\")  # ควรได้ 181\n",
        "print(f\"30 Sep 2023: {day_of_year(30, 9, 2023)}\")  # ควรได้ 273\n",
        "print(f\"31 Dec 2023: {day_of_year(31, 12, 2023)}\")  # ควรได้ 365\n"
      ],
      "metadata": {
        "colab": {
          "base_uri": "https://localhost:8080/"
        },
        "id": "FD0QJckn4wGL",
        "outputId": "b4f81c7e-4227-476b-c914-9b3d56625aab"
      },
      "execution_count": 1,
      "outputs": [
        {
          "output_type": "stream",
          "name": "stdout",
          "text": [
            "Normal year (2023):\n",
            "1 Jan 2023: 1\n",
            "1 Feb 2023: 32\n",
            "1 Mar 2023: 60\n",
            "31 Dec 2023: 365\n",
            "\n",
            "Leap year (2024):\n",
            "1 Jan 2024: 1\n",
            "29 Feb 2024: 60\n",
            "1 Mar 2024: 61\n",
            "31 Dec 2024: 366\n",
            "\n",
            "Century year, not a leap year (1900):\n",
            "1 Mar 1900: 60\n",
            "\n",
            "Century year, leap year (2000):\n",
            "1 Mar 2000: 61\n",
            "\n",
            "Mid-year dates:\n",
            "15 Jun 2023: 166\n",
            "15 Jun 2024: 167\n",
            "\n",
            "Last day of each quarter:\n",
            "31 Mar 2023: 90\n",
            "30 Jun 2023: 181\n",
            "30 Sep 2023: 273\n",
            "31 Dec 2023: 365\n"
          ]
        }
      ]
    },
    {
      "cell_type": "markdown",
      "source": [
        "Exercise 5.2 ให้เขียนฟังก์ชัน เพิ่มเติมเป็น date_diff\n",
        "รับข้อมูลในรูปแบบ “dd-mm-yyyy” เช่น date_diff(“1-1-2018”, “1-1-2020”) จะได้ 731 วัน date_diff(“25-12-1999”, “9-3-2000”) จะได้ 76 วัน\n",
        "ให้เขียนฟังก์ชัน day_in_year โดยจะส่งค่าจำนวนวันของปี (365 หรือ 366) โดยรับข้อมูลเป็น ปี\n",
        "ส่งคืนข้อมูลเป็นจำนวนวันตั้งแต่วันที่แรก จนถึงวันที่สอง โดยรวมทั้ง 2 วันนั้นเข้าไปด้วย\n",
        "ให้สมมติว่าวันแรก จะต้องมาก่อนวันที่สองเสมอ ดังนั้นไม่ต้องตรวจสอบ\n"
      ],
      "metadata": {
        "id": "fkkuNcAcCo-z"
      }
    },
    {
      "cell_type": "code",
      "source": [
        "def is_leap(year):\n",
        "    pass\n",
        "\n",
        "def day_of_year(day, month, year):\n",
        "    pass\n",
        "\n",
        "def day_in_year(year):\n",
        "    return 366 if is_leap(year) else 365\n",
        "\n",
        "def date_diff(date1, date2):\n",
        "    pass\n",
        "\n",
        "# ทดสอบฟังก์ชัน\n",
        "print(date_diff(\"1-1-2018\", \"1-1-2020\"))  # ควรได้ 731\n",
        "print(date_diff(\"25-12-1999\", \"9-3-2000\"))  # ควรได้ 76\n",
        "print(date_diff(\"1-1-2000\", \"1-1-2001\"))  # ควรได้ 367 (ปี 2000 เป็น leap year)\n",
        "print(date_diff(\"1-1-2001\", \"1-1-2002\"))  # ควรได้ 366 (ปี 2001 ไม่ใช่ leap year)\n",
        "print(date_diff(\"1-3-2000\", \"1-3-2001\"))  # ควรได้ 367 (ข้ามปี leap year)\n",
        "print(date_diff(\"1-1-2023\", \"31-12-2023\"))  # ควรได้ 365 (ทั้งปี 2023)\n"
      ],
      "metadata": {
        "id": "dwNIkw0wDRjF"
      },
      "execution_count": null,
      "outputs": []
    },
    {
      "cell_type": "code",
      "source": [
        "days_in_month = [31, 28, 31, 30, 31, 30, 31, 31, 30, 31, 30, 31]\n",
        "\n",
        "def leap_year(year):\n",
        "    if (year % 400 == 0) and (year % 100 == 0):\n",
        "        return True\n",
        "    elif (year % 4 ==0) and (year % 100 != 0):\n",
        "        return True\n",
        "\n",
        "    else:\n",
        "        return False\n",
        "\n",
        "def day_of_year(day, month, year):\n",
        "\n",
        "    if(leap_year(year)):\n",
        "        days_in_month[1] = 29\n",
        "    else:\n",
        "        days_in_month[1] = 28\n",
        "\n",
        "    day_totle = 0\n",
        "    day_remove = day\n",
        "\n",
        "    for i in range(month):\n",
        "        if(day_remove != 0 and i+1 == month):\n",
        "            day_totle += day_remove\n",
        "            day_remove = 0\n",
        "        else:\n",
        "            day_totle += days_in_month[i]\n",
        "    return day_totle\n",
        "\n",
        "def day_in_year(year):\n",
        "    return 366 if leap_year(year) else 365\n",
        "\n",
        "def date_diff(date1, date2):\n",
        "    d1,m1,y1 = date1.split(\"-\")\n",
        "    d2,m2,y2 = date2.split(\"-\")\n",
        "\n",
        "    d1 = int(d1)\n",
        "    d2 = int(d2)\n",
        "    m1 = int(m1)\n",
        "    m2 = int(m2)\n",
        "    y1 = int(y1)\n",
        "    y2 = int(y2)\n",
        "\n",
        "    len_of_year = y2-y1\n",
        "    ans = 0\n",
        "    if(len_of_year ==0):\n",
        "        # print(day_of_year(d1,m1,y1),day_of_year(d2,m2,y2))\n",
        "        ans -= day_of_year(d1,m1,y1)\n",
        "        ans += day_of_year(d2,m2,y2)\n",
        "    else:\n",
        "        for i in range(0,len_of_year):\n",
        "            year = y1 + i\n",
        "            # print(\"X :\",day_in_year(year))\n",
        "            ans += day_in_year(year)\n",
        "            if(d1 > 1 or m1 > 1 ):\n",
        "                # print(\"X :\",day_of_year(d1,m1,y1))\n",
        "                ans -= day_of_year(d1,m1,y1)\n",
        "            if(d2 > 1 or m2 > 1 ):\n",
        "                # print(\"X :\",day_of_year(d2,m2,y2))\n",
        "                ans += day_of_year(d2,m2,y2)\n",
        "    return ans+1\n",
        "\n",
        "print(date_diff(\"1-1-2018\", \"1-1-2020\"))  # ควรได้ 731\n",
        "print(date_diff(\"25-12-1999\", \"9-3-2000\"))  # ควรได้ 76\n",
        "print(date_diff(\"1-1-2000\", \"1-1-2001\"))  # ควรได้ 367 (ปี 2000 เป็น leap year)\n",
        "print(date_diff(\"1-1-2001\", \"1-1-2002\"))  # ควรได้ 366 (ปี 2001 ไม่ใช่ leap year)\n",
        "print(date_diff(\"1-3-2000\", \"1-3-2001\"))  # ควรได้ 367 (ข้ามปี leap year)\n",
        "print(date_diff(\"1-1-2023\", \"31-12-2023\"))  # ควรได้ 365 (ทั้งปี 2023)"
      ],
      "metadata": {
        "colab": {
          "base_uri": "https://localhost:8080/"
        },
        "id": "pFUpCB8z45fQ",
        "outputId": "13c27746-529d-41fb-825e-bd3914f14f9d"
      },
      "execution_count": 2,
      "outputs": [
        {
          "output_type": "stream",
          "name": "stdout",
          "text": [
            "731\n",
            "76\n",
            "367\n",
            "366\n",
            "366\n",
            "365\n"
          ]
        }
      ]
    },
    {
      "cell_type": "markdown",
      "source": [
        "Exercise 5.3 จากโปรแกรม 5.2 ให้เขียนฟังก์ชัน date_diff  เพิ่มเติม โดยให้มีการตรวจสอบ\n",
        "วันที่ต้องเป็นวันที่ถูกต้องของเดือนนั้นๆ\n",
        "เดือนต้องอยู่ระหว่าง 1-12\n",
        "เดือนกุมภาพันธ์ของปีที่มี Leap Year เท่านั้นที่จะมี 29 วันได้\n",
        "หากข้อมูล Input ผิดพลาด ให้ Return -1\n"
      ],
      "metadata": {
        "id": "JU8jQcg4WDoF"
      }
    },
    {
      "cell_type": "code",
      "source": [
        "def is_leap(year):\n",
        "    pass\n",
        "\n",
        "def day_of_year(day, month, year):\n",
        "    pass\n",
        "\n",
        "def day_in_year(year):\n",
        "    return 366 if is_leap(year) else 365\n",
        "\n",
        "def date_diff(date1, date2):\n",
        "    pass\n",
        "\n",
        "# ทดสอบฟังก์ชัน\n",
        "print(date_diff(\"1-1-2018\", \"1-1-2020\"))  # ควรได้ 731\n",
        "print(date_diff(\"25-12-1999\", \"9-3-2000\"))  # ควรได้ 76\n",
        "print(date_diff(\"1-1-2000\", \"1-1-2001\"))  # ควรได้ 367 (ปี 2000 เป็น leap year)\n",
        "print(date_diff(\"1-1-2001\", \"1-1-2002\"))  # ควรได้ 366 (ปี 2001 ไม่ใช่ leap year)\n",
        "print(date_diff(\"1-3-2000\", \"1-3-2001\"))  # ควรได้ 367 (ข้ามปี leap year)\n",
        "print(date_diff(\"1-1-2023\", \"31-12-2023\"))  # ควรได้ 365 (ทั้งปี 2023)\n",
        "\n",
        "# ทดสอบกรณีข้อมูลไม่ถูกต้อง\n",
        "print(date_diff(\"31-4-2023\", \"1-5-2023\"))  # ควรได้ -1 (เดือนเมษายนมี 30 วัน)\n",
        "print(date_diff(\"29-2-2023\", \"1-3-2023\"))  # ควรได้ -1 (ปี 2023 ไม่ใช่ leap year)\n",
        "print(date_diff(\"1-13-2023\", \"1-1-2024\"))  # ควรได้ -1 (เดือนไม่ถูกต้อง)\n",
        "print(date_diff(\"abc\", \"1-1-2024\"))  # ควรได้ -1 (รูปแบบวันที่ไม่ถูกต้อง)"
      ],
      "metadata": {
        "id": "OgqrXbFVWEML"
      },
      "execution_count": null,
      "outputs": []
    },
    {
      "cell_type": "code",
      "source": [
        "days_in_month = [31, 28, 31, 30, 31, 30, 31, 31, 30, 31, 30, 31]\n",
        "\n",
        "def leap_year(year):\n",
        "    if (year % 400 == 0) and (year % 100 == 0): #ปีที่หารด้วย 400 ลงตัว แต่ในทุกๆ 400 ปี จะหารด้วย 100 ลงตัว\n",
        "        return True\n",
        "    elif (year % 4 ==0) and (year % 100 != 0): # หาร 4 ลงตัว และ หาร 100 ไม่ลงตัว\n",
        "        return True\n",
        "    else:\n",
        "        return False\n",
        "\n",
        "def day_of_year(day, month, year):\n",
        "    if(leap_year(year)):\n",
        "        days_in_month[1] = 29\n",
        "    else:\n",
        "        days_in_month[1] = 28\n",
        "\n",
        "    day_totle = 0\n",
        "    day_temp = day\n",
        "\n",
        "    for i in range(month):\n",
        "        if(day_temp != 0 and i+1 == month):\n",
        "            day_totle += day_temp\n",
        "            day_temp = 0\n",
        "        else:\n",
        "            day_totle += days_in_month[i]\n",
        "    return day_totle\n",
        "\n",
        "def day_in_year(year):\n",
        "    return 366 if leap_year(year) else 365\n",
        "\n",
        "def date_diff(date1, date2):\n",
        "    try:\n",
        "        d1,m1,y1 = date1.split(\"-\")\n",
        "        d2,m2,y2 = date2.split(\"-\")\n",
        "        d1 = int(d1)\n",
        "        d2 = int(d2)\n",
        "        m1 = int(m1)\n",
        "        m2 = int(m2)\n",
        "        y1 = int(y1)\n",
        "        y2 = int(y2)\n",
        "    except:\n",
        "        return -1\n",
        "\n",
        "    if (m1 < 1 or m1 > 12) or (m2 < 1 or m2 > 12): # เดือน น้อยกว่า 1 หรือ มากกว่า 12\n",
        "        return -1\n",
        "    elif(d1 > days_in_month[m1-1]): #เช็ควันจะต้องมีค่าไม่มากกว่าวันสูงสุดในเดือน ของ date1\n",
        "        if(not (leap_year(y1) and d1 == 29)): #เช็คในเดือนกุมภาพันธ์ ถ้าไม่ใช่ leap year ห้ามเกิน 28 day\n",
        "            return -1\n",
        "    elif(d2 > days_in_month[m2-1]): #เช็ควันจะต้องมีค่าไม่มากกว่าวันสูงสุดในเดือน ของ date2\n",
        "        if(not (leap_year(y2) and d2 == 29)): #เช็คในเดือนกุมภาพันธ์ ถ้าไม่ใช่ leap year ห้ามเกิน 28 day\n",
        "            return -1\n",
        "\n",
        "    len_of_year = y2-y1\n",
        "    ans = 0\n",
        "    if(len_of_year ==0):\n",
        "        ans -= day_of_year(d1,m1,y1)\n",
        "        ans += day_of_year(d2,m2,y2)\n",
        "    else:\n",
        "        for i in range(0,len_of_year):\n",
        "            year = y1 + i\n",
        "            ans += day_in_year(year) #บวกวันตามปี\n",
        "            if(d1 > 1 or m1 > 1 ):\n",
        "                ans -= day_of_year(d1,m1,y1) #ลบวันที่เกินเข้ามา\n",
        "            if(d2 > 1 or m2 > 1 ):\n",
        "                ans += day_of_year(d2,m2,y2) #บวกวันที่เลื่อนออกไป\n",
        "    return ans+1\n",
        "\n",
        "# ทดสอบฟังก์ชัน\n",
        "print(date_diff(\"1-1-2018\", \"1-1-2020\"))  # ควรได้ 731\n",
        "print(date_diff(\"25-12-1999\", \"9-3-2000\"))  # ควรได้ 76\n",
        "print(date_diff(\"1-1-2000\", \"1-1-2001\"))  # ควรได้ 367 (ปี 2000 เป็น leap year)\n",
        "print(date_diff(\"1-1-2001\", \"1-1-2002\"))  # ควรได้ 366 (ปี 2001 ไม่ใช่ leap year)\n",
        "print(date_diff(\"1-3-2000\", \"1-3-2001\"))  # ควรได้ 366 (ข้ามปี leap year)\n",
        "print(date_diff(\"1-1-2023\", \"31-12-2023\"))  # ควรได้ 365 (ทั้งปี 2023)\n",
        "\n",
        "# ทดสอบกรณีข้อมูลไม่ถูกต้อง\n",
        "print(date_diff(\"31-4-2023\", \"1-5-2023\"))  # ควรได้ -1 (เดือนเมษายนมี 30 วัน)\n",
        "print(date_diff(\"29-2-2023\", \"1-3-2023\"))  # ควรได้ -1 (ปี 2023 ไม่ใช่ leap year)\n",
        "print(date_diff(\"1-13-2023\", \"1-1-2024\"))  # ควรได้ -1 (เดือนไม่ถูกต้อง)\n",
        "print(date_diff(\"abc\", \"1-1-2024\"))  # ควรได้ -1 (รูปแบบวันที่ไม่ถูกต้อง)"
      ],
      "metadata": {
        "colab": {
          "base_uri": "https://localhost:8080/"
        },
        "id": "Jkh9unBK47dN",
        "outputId": "8bf98792-fab1-432f-a16e-620b0e7a653b"
      },
      "execution_count": 3,
      "outputs": [
        {
          "output_type": "stream",
          "name": "stdout",
          "text": [
            "731\n",
            "76\n",
            "367\n",
            "366\n",
            "366\n",
            "365\n",
            "-1\n",
            "-1\n",
            "-1\n",
            "-1\n"
          ]
        }
      ]
    },
    {
      "cell_type": "markdown",
      "source": [
        "1.\tปลาหมอคางดำเพศเมีย 1 ตัว เมื่ออายุครบ 2 เดือน จะสามารถสืบพันธ์ได้ โดยระยะเวลาตั้งท้องจนถึง\n",
        "วางไข่ของตัวเมียจะใช้เวลา 21 วัน และฟักในปากเพศผู้อีก 7 วัน (สามารถรวมเป็น 1 เดือนได้) โดยออกไข่ครั้งละ 300 ฟอง กำหนดให้ไข่ฟักเป็นเพศผู้และเพศเมียอย่างละครึ่ง และเมื่อวางไข่แล้วจะสามารถสืบพันธ์ต่อได้ทันที กำหนดให้ปลามีอายุ 5 ปี และปลาทั้งหมดจะตาย p% ทุก 1 เดือน จงหาว่าปลาหมอคางดำหลุดจากฟาร์ม n ตัวเป็นเพศผู้และเพศเมียอย่างละครึ่ง จงเขียนโปรแกรมรับค่า n และ p ให้แสดงผลจำนวนปลาทุก 3 เดือน เป็นเวลา 10 ปี ให้เขียนเป็นฟังก์ชัน ชื่อ simulate_fish_population()\n"
      ],
      "metadata": {
        "id": "tdBCjJzeWb2c"
      }
    },
    {
      "cell_type": "code",
      "execution_count": null,
      "metadata": {
        "id": "JmvNmVQh4C9X"
      },
      "outputs": [],
      "source": [
        "import math\n",
        "\n",
        "def simulate_fish_population(n, p, months=3):\n",
        "  pass\n",
        "\n",
        "# Run simulation\n",
        "n = 2  # Initial number of fish\n",
        "p = 10  # Monthly mortality rate\n",
        "\n",
        "# simulate_fish_population(n, p)\n",
        "\n",
        "# ถ้าเริ่มต้นด้วยปลา 2 ตัว ตายเดือนละ 10%\n",
        "# เดือนที่ 1 ไข่ 300 ไบ\n",
        "# เดือนที่ 2 ไข่ 300 ใบ + ลูกปลา 270 ตัว\n",
        "# เดือนที่ 3 ไข่ 300 ใบ + ลูกปลา 270 ตัว + ปลาโตเต็มวัย 243 ตัว + 2 = 515 ตัว\n"
      ]
    },
    {
      "cell_type": "code",
      "source": [
        "import math\n",
        "\n",
        "def simulate_fish_population(num, percen):\n",
        "    data_fish = {\n",
        "        \"male\" : {\n",
        "            \"count\": [math.floor(num/2)],\n",
        "            \"age\" : [0]\n",
        "        },\n",
        "        \"female\":{\n",
        "            \"count\": [math.floor(num/2)],\n",
        "            \"age\" : [0]\n",
        "        }\n",
        "    }\n",
        "\n",
        "    def total_fish():\n",
        "        return sum(data_fish[\"male\"][\"count\"]) + sum(data_fish[\"female\"][\"count\"])\n",
        "\n",
        "    def total_male_fish():\n",
        "        return sum(data_fish[\"male\"][\"count\"])\n",
        "\n",
        "    def total_female_fish():\n",
        "        return sum(data_fish[\"female\"][\"count\"])\n",
        "\n",
        "    def age_fish():\n",
        "        for i in range(len(data_fish[\"male\"][\"age\"])):\n",
        "            data_fish[\"male\"][\"age\"][i] += 1\n",
        "            data_fish[\"female\"][\"age\"][i] += 1\n",
        "\n",
        "    def remove_old_fish():\n",
        "        for i in range(len(data_fish[\"male\"][\"age\"]) - 1, -1, -1):\n",
        "            if data_fish[\"male\"][\"age\"][i] >= 60:\n",
        "                data_fish[\"male\"][\"count\"].pop(i)\n",
        "                data_fish[\"male\"][\"age\"].pop(i)\n",
        "            if data_fish[\"female\"][\"age\"][i] >= 60:\n",
        "                data_fish[\"female\"][\"count\"].pop(i)\n",
        "                data_fish[\"female\"][\"age\"].pop(i)\n",
        "\n",
        "    def new_gen_fish(egg):\n",
        "        new_males = egg // 2\n",
        "        new_females = egg // 2\n",
        "        data_fish[\"male\"][\"count\"].append(new_males)\n",
        "        data_fish[\"male\"][\"age\"].append(0)\n",
        "        data_fish[\"female\"][\"count\"].append(new_females)\n",
        "        data_fish[\"female\"][\"age\"].append(0)\n",
        "\n",
        "    year_10_to_month = 120\n",
        "    egg_per_female = 300\n",
        "\n",
        "    for month in range(1, year_10_to_month + 1):\n",
        "        remove_old_fish()\n",
        "\n",
        "        for i in range(len(data_fish[\"female\"][\"count\"])):\n",
        "            if data_fish[\"female\"][\"age\"][i] >= 2:\n",
        "                eggs = egg_per_female * data_fish[\"female\"][\"count\"][i]\n",
        "                new_gen_fish(eggs)\n",
        "\n",
        "        # Loss p%\n",
        "        for i in range(len(data_fish[\"male\"][\"count\"])):\n",
        "            data_fish[\"male\"][\"count\"][i] -= math.floor(data_fish[\"male\"][\"count\"][i] * percen / 100)\n",
        "            data_fish[\"female\"][\"count\"][i] -= math.floor(data_fish[\"female\"][\"count\"][i] * percen / 100)\n",
        "\n",
        "        if month % 3 == 0:\n",
        "            male = total_male_fish()\n",
        "            female = total_female_fish()\n",
        "            total = total_fish()\n",
        "            print(f\"Month: {month} || Total: {total}, Male: {male}, Female: {female},\")\n",
        "\n",
        "        age_fish()\n",
        "\n",
        "n = 2\n",
        "p = 10\n",
        "simulate_fish_population(n, p) # Code Run ช้ามาก"
      ],
      "metadata": {
        "colab": {
          "base_uri": "https://localhost:8080/",
          "height": 471
        },
        "id": "jsSp5DDN4_Bk",
        "outputId": "8b262acd-6f15-4060-c547-db85449aad88"
      },
      "execution_count": 16,
      "outputs": [
        {
          "output_type": "stream",
          "name": "stdout",
          "text": [
            "Month: 3 || Total: 272, Male: 136, Female: 136,\n",
            "Month: 6 || Total: 93220, Male: 46610, Female: 46610,\n",
            "Month: 9 || Total: 520931314, Male: 260465657, Female: 260465657,\n",
            "Month: 12 || Total: 338480153032, Male: 169240076516, Female: 169240076516,\n",
            "Month: 15 || Total: 1045634598251130, Male: 522817299125565, Female: 522817299125565,\n",
            "Month: 18 || Total: 950885227447288842, Male: 475442613723644421, Female: 475442613723644421,\n",
            "Month: 21 || Total: 2188095294981877799410, Male: 1094047647490938899705, Female: 1094047647490938899705,\n",
            "Month: 24 || Total: 2424920245028225157359352, Male: 1212460122514112578679676, Female: 1212460122514112578679676,\n",
            "Month: 27 || Total: 4721859840094201266202720690, Male: 2360929920047100633101360345, Female: 2360929920047100633101360345,\n",
            "Month: 30 || Total: 5901817741157233316817310330868, Male: 2950908870578616658408655165434, Female: 2950908870578616658408655165434,\n"
          ]
        },
        {
          "output_type": "error",
          "ename": "KeyboardInterrupt",
          "evalue": "",
          "traceback": [
            "\u001b[0;31m---------------------------------------------------------------------------\u001b[0m",
            "\u001b[0;31mKeyboardInterrupt\u001b[0m                         Traceback (most recent call last)",
            "\u001b[0;32m<ipython-input-16-1abfa768b243>\u001b[0m in \u001b[0;36m<cell line: 72>\u001b[0;34m()\u001b[0m\n\u001b[1;32m     70\u001b[0m \u001b[0mn\u001b[0m \u001b[0;34m=\u001b[0m \u001b[0;36m2\u001b[0m\u001b[0;34m\u001b[0m\u001b[0;34m\u001b[0m\u001b[0m\n\u001b[1;32m     71\u001b[0m \u001b[0mp\u001b[0m \u001b[0;34m=\u001b[0m \u001b[0;36m10\u001b[0m\u001b[0;34m\u001b[0m\u001b[0;34m\u001b[0m\u001b[0m\n\u001b[0;32m---> 72\u001b[0;31m \u001b[0msimulate_fish_population\u001b[0m\u001b[0;34m(\u001b[0m\u001b[0mn\u001b[0m\u001b[0;34m,\u001b[0m \u001b[0mp\u001b[0m\u001b[0;34m)\u001b[0m \u001b[0;31m# Code Run ช้ามาก\u001b[0m\u001b[0;34m\u001b[0m\u001b[0;34m\u001b[0m\u001b[0m\n\u001b[0m",
            "\u001b[0;32m<ipython-input-16-1abfa768b243>\u001b[0m in \u001b[0;36msimulate_fish_population\u001b[0;34m(num, percen)\u001b[0m\n\u001b[1;32m     52\u001b[0m         \u001b[0;32mfor\u001b[0m \u001b[0mi\u001b[0m \u001b[0;32min\u001b[0m \u001b[0mrange\u001b[0m\u001b[0;34m(\u001b[0m\u001b[0mlen\u001b[0m\u001b[0;34m(\u001b[0m\u001b[0mdata_fish\u001b[0m\u001b[0;34m[\u001b[0m\u001b[0;34m\"female\"\u001b[0m\u001b[0;34m]\u001b[0m\u001b[0;34m[\u001b[0m\u001b[0;34m\"count\"\u001b[0m\u001b[0;34m]\u001b[0m\u001b[0;34m)\u001b[0m\u001b[0;34m)\u001b[0m\u001b[0;34m:\u001b[0m\u001b[0;34m\u001b[0m\u001b[0;34m\u001b[0m\u001b[0m\n\u001b[1;32m     53\u001b[0m             \u001b[0;32mif\u001b[0m \u001b[0mdata_fish\u001b[0m\u001b[0;34m[\u001b[0m\u001b[0;34m\"female\"\u001b[0m\u001b[0;34m]\u001b[0m\u001b[0;34m[\u001b[0m\u001b[0;34m\"age\"\u001b[0m\u001b[0;34m]\u001b[0m\u001b[0;34m[\u001b[0m\u001b[0mi\u001b[0m\u001b[0;34m]\u001b[0m \u001b[0;34m>=\u001b[0m \u001b[0;36m2\u001b[0m\u001b[0;34m:\u001b[0m\u001b[0;34m\u001b[0m\u001b[0;34m\u001b[0m\u001b[0m\n\u001b[0;32m---> 54\u001b[0;31m                 \u001b[0meggs\u001b[0m \u001b[0;34m=\u001b[0m \u001b[0megg_per_female\u001b[0m \u001b[0;34m*\u001b[0m \u001b[0mdata_fish\u001b[0m\u001b[0;34m[\u001b[0m\u001b[0;34m\"female\"\u001b[0m\u001b[0;34m]\u001b[0m\u001b[0;34m[\u001b[0m\u001b[0;34m\"count\"\u001b[0m\u001b[0;34m]\u001b[0m\u001b[0;34m[\u001b[0m\u001b[0mi\u001b[0m\u001b[0;34m]\u001b[0m\u001b[0;34m\u001b[0m\u001b[0;34m\u001b[0m\u001b[0m\n\u001b[0m\u001b[1;32m     55\u001b[0m                 \u001b[0mnew_gen_fish\u001b[0m\u001b[0;34m(\u001b[0m\u001b[0meggs\u001b[0m\u001b[0;34m)\u001b[0m\u001b[0;34m\u001b[0m\u001b[0;34m\u001b[0m\u001b[0m\n\u001b[1;32m     56\u001b[0m \u001b[0;34m\u001b[0m\u001b[0m\n",
            "\u001b[0;31mKeyboardInterrupt\u001b[0m: "
          ]
        }
      ]
    },
    {
      "cell_type": "markdown",
      "source": [
        "2.\tให้เขียน function find_mismatch ซึ่งรับ string มา 2 ค่า โดยจะส่งค่ากลับดังนี้\n",
        "- 0 เมื่อ string ทั้ง 2 ตัว เหมือนกัน โดยไม่สนใจ case\n",
        "- 1 เมื่อ string 1 จะเหมือน string 2 โดยการลบและ/หรือเพิ่มตัวอักษรเพียง 1 ตัว\n",
        "- 2 เมื่อ string ไม่เข้าเกณฑ์ 0 หรือ 1\n",
        "\n",
        "\n",
        "| String  1| \tString2\t|ผลลัพธ์|\n",
        "|----------|----------|------|\n",
        "|Python|\tJava\t|2|\n",
        "|book\t |  boot\t|1|\n",
        "|fan\t |  fun\t  |1|\n",
        "|sin\t | sink\t  |1 เพราะเพิ่ม k ใน str2 แล้วจะเหมือนกัน\n",
        "|Dog\t | dog\t  |0\n",
        "|poke\t | spoke\t|1 เพิ่ม s ใน str2 แล้วเหมือนกัน\n",
        "|poker |\tpoke\t|1 ตัด r ใน str1 ออกแล้วเหมือนกัน\n",
        "\n",
        "\n",
        "\n",
        "\n"
      ],
      "metadata": {
        "id": "F0_ZEPOYbDKf"
      }
    },
    {
      "cell_type": "code",
      "source": [
        "def find_mismatch(str1, str2):\n",
        "    str1 = str1.lower()\n",
        "    str2 = str2.lower()\n",
        "\n",
        "    len1, len2 = len(str1), len(str2)\n",
        "    len_diff = abs(len1 - len2)\n",
        "\n",
        "    if len_diff > 1 :\n",
        "        return 2\n",
        "\n",
        "    if len1 == len2:\n",
        "        unmatch_count = 0\n",
        "        for i in range(len1):\n",
        "            if str1[i] != str2[i]:\n",
        "                unmatch_count += 1\n",
        "                if unmatch_count > 1:\n",
        "                    return 2\n",
        "        if unmatch_count == 1:\n",
        "            return 1\n",
        "    else:\n",
        "        if len1 < len2:\n",
        "            str1, str2 = str2, str1\n",
        "\n",
        "        for i in range(len(str1) + 1):\n",
        "            if str1[:i] + str1[i:] == str2:\n",
        "                return 1\n",
        "\n",
        "# Test cases\n",
        "print(find_mismatch(\"Python\", \"Java\"))  # Output: 2\n",
        "print(find_mismatch(\"book\", \"boot\"))    # Output: 1\n",
        "print(find_mismatch(\"fan\", \"fun\"))      # Output: 1"
      ],
      "metadata": {
        "id": "jyVxAb-MXnz2",
        "colab": {
          "base_uri": "https://localhost:8080/"
        },
        "outputId": "dbea356f-78a9-4776-eab8-a37769a9c77c"
      },
      "execution_count": 6,
      "outputs": [
        {
          "output_type": "stream",
          "name": "stdout",
          "text": [
            "2\n",
            "1\n",
            "1\n"
          ]
        }
      ]
    },
    {
      "cell_type": "markdown",
      "source": [
        "3.\tจากข้อ 1 ให้เขียนฟังก์ชันชื่อ spelling_correction โดยรับ 2 argument ตัวแรกเป็นประโยค (string) และตัวที่ 2 เป็น list ของคำ (correct_spells) โดยฟังก์ชันนี้มีหน้าที่ตรวจสอบแต่ละ word ใน input string กับคำที่อยู่ใน correct_spells โดยค่าที่คืนกลับมาจะมีดังนี้ (พยายามเรียกใช้ฟังก์ชันในข้อ 1)\n",
        "-\tถ้าคำที่อยู่ในประโยค ตรงกับคำที่อยู่ใน correct_spells ทุกอย่าง ก็จะ copy ไปที่ output string\n",
        "-\tถ้าคำที่อยู่ในประโยค ต่างจากคำที่อยู่ใน correct_spells โดยต่างกัน 1 ตัวอักษร โดยการเปลี่ยน การเพิ่ม หรือการลบ 1 ตัวอักษร คำที่อยู่ในประโยคจะถูกเปลี่ยนโดยคำที่อยู่ใน correct_spells และนำไปใส่ output string\n",
        "-\tถ้าคำที่ไม่พบในเงื่อนไขข้างต้นให้นำคำนั้นไปใส่ output string ได้เลย\n",
        "-\tคำที่ประกอบด้วย 1 หรือ 2 ตัวอักษรจะไม่ตรวจสอบ ให้นำคำนั้นไปใส่ output string ได้เลย\n",
        "-\tถ้ามี 2 คำใน correct_spells ที่ตรงตามเงื่อนไข ให้ใช้คำแรก\n",
        "-\tไม่สนใจตัวใหญ่ ตัวเล็ก\n",
        "-\tInput string จะมีได้เพียงอักษรภาษาอังกฤษเท่านั้น\n",
        "-\tในแต่ละคำจะคั่นด้วย 1 space ถ้ามี space มากกว่านั้นให้ตัดออก และตัด space จากหัวท้ายประโยค\n",
        "\n",
        "|ประโยค\t|correct_spells\t|output string |\n",
        "|-------|---------------|-------------|\n",
        "|Thes is the Firs cas\t|[‘that’,’first’,’case’,’car’]|\tthes is the first car|\n",
        "|programming is fan and easy\t|[‘programming’,’this’,’fun’,’easy’,book’]\t|programming is fun and easy|\n",
        "|Thes is vary essy\t|[‘this’,’is’,’very’,’easy’]\t|this is very easy|\n",
        "|Wee ipve Pythen\t|[‘we’,’live’,’ln’,’Python’]\t|we live python|\n",
        "\n",
        "\n"
      ],
      "metadata": {
        "id": "jzXp83HSbMh9"
      }
    },
    {
      "cell_type": "code",
      "source": [
        "def find_mismatch(str1, str2):\n",
        "    str1 = str1.lower()\n",
        "    str2 = str2.lower()\n",
        "\n",
        "    len1, len2 = len(str1), len(str2)\n",
        "    len_diff = abs(len1 - len2)\n",
        "\n",
        "    if len_diff > 1:\n",
        "        return 2\n",
        "\n",
        "    if len1 == len2:\n",
        "        unmatch_count = 0\n",
        "        for i in range(len1):\n",
        "            if str1[i] != str2[i]:\n",
        "                unmatch_count += 1\n",
        "                if unmatch_count > 1:\n",
        "                    return 2\n",
        "        if unmatch_count == 1:\n",
        "            return 1\n",
        "        if unmatch_count == 0:\n",
        "            return 0\n",
        "    else:\n",
        "        if len1 < len2:\n",
        "            str1, str2 = str2, str1\n",
        "\n",
        "        for i in range(len(str1) + 1):\n",
        "            if str1[:i] + str1[i+1:] == str2:\n",
        "                return 1\n",
        "\n",
        "    return 2\n",
        "\n",
        "def spelling_correction(input_string, correct_spells):\n",
        "    str_input = input_string.split(\" \")\n",
        "    correct_input = eval(correct_spells)\n",
        "\n",
        "    ans = []\n",
        "    for string in str_input:\n",
        "        corrected = string\n",
        "        for correct in correct_input[::-1]:\n",
        "            if find_mismatch(string, correct) == 0:\n",
        "                corrected = string\n",
        "                break\n",
        "            elif find_mismatch(string, correct) == 1:\n",
        "                corrected = correct\n",
        "                break\n",
        "\n",
        "        ans.append(corrected)\n",
        "\n",
        "    return \" \".join(ans)\n",
        "\n",
        "# Test cases\n",
        "print(spelling_correction(\"Thes is the Firs cas\", \"['that','first','case','car']\"))\n",
        "print(spelling_correction(\"programming is fan and easy\", \"['programming','this','fun','easy','book']\"))\n",
        "print(spelling_correction(\"Thes is vary essy\", \"['this','is','very','easy']\"))\n",
        "print(spelling_correction(\"Wee ipve Pythen\", \"['we','live','in','python']\"))\n"
      ],
      "metadata": {
        "id": "4NW0Y1hXpfCt",
        "colab": {
          "base_uri": "https://localhost:8080/"
        },
        "outputId": "802e713a-5507-43a8-cc27-6991872034c1"
      },
      "execution_count": 8,
      "outputs": [
        {
          "output_type": "stream",
          "name": "stdout",
          "text": [
            "Thes is the first car\n",
            "programming is fun and easy\n",
            "this is very easy\n",
            "we ipve python\n"
          ]
        }
      ]
    },
    {
      "cell_type": "markdown",
      "source": [
        "4. ให้เขียนฟังก์ชัน find_word_horizontal ซึ่งจะรับ list ขนาด 2 มิติ ของตัวอักษร (คล้ายกับเกม cross word) และ word ซึ่งเป็น string เป็น argument โดยฟังก์ชันนี้ จะค้นหาตามแถวของ list เพื่อหาตำแหน่งที่มีอักษรตรงกับคำใน word ถ้าพบ จะส่งคืน row index และ column index ของตัวอักษรแรก ถ้าไม่พบจะส่งคืน None\n",
        "\n",
        "```\n",
        "crosswords=[['s','d','o','g'],\n",
        "            ['c','u','c','m'],\n",
        "            ['a','c','a','t'],\n",
        "            ['t',' e','t','k']]\n",
        "\tword='cat'\n",
        "\tfind_word_horizontal(crosswords,word)\n",
        "```\n",
        "\n",
        "Output\n",
        "   [2,1]\n"
      ],
      "metadata": {
        "id": "sshYZJYZpfua"
      }
    },
    {
      "cell_type": "code",
      "source": [
        "crosswords=[\n",
        "    ['s','d','o','g'],\n",
        "    ['c','u','c','m'],\n",
        "    ['a','c','a','t'],\n",
        "    ['t','e','t','k']\n",
        "]\n",
        "word='cat'\n",
        "\n",
        "def find_word_horizontal(crosswords, word):\n",
        "    ans = ''\n",
        "    x = []\n",
        "    for i,row in enumerate(crosswords):\n",
        "        for j,col in enumerate(crosswords):\n",
        "            ans += crosswords[i][j]\n",
        "            x.append(f\"{i},{j}\")\n",
        "\n",
        "        if word in ans:\n",
        "            # print(word,ans)\n",
        "            len_of_word = len(word)\n",
        "            for i in range(len(ans)):\n",
        "                if i < len_of_word and word[i] != ans:\n",
        "                    ans = ans.replace(ans[i], \"\", 1)\n",
        "                    x.pop(i)\n",
        "                    return x[0]\n",
        "        ans = ''\n",
        "        x.clear()\n",
        "    return None\n",
        "\n",
        "print(find_word_horizontal(crosswords, word))"
      ],
      "metadata": {
        "id": "2z0nonPMqZ_Q",
        "colab": {
          "base_uri": "https://localhost:8080/"
        },
        "outputId": "bf930ad5-242e-4eb8-c0cb-2c5f52f02ce1"
      },
      "execution_count": 9,
      "outputs": [
        {
          "output_type": "stream",
          "name": "stdout",
          "text": [
            "2,1\n"
          ]
        }
      ]
    },
    {
      "cell_type": "markdown",
      "source": [
        "5. ให้เขียนฟังก์ชัน find_word_vertical ซึ่งจะรับ list ขนาด 2 มิติ ของตัวอักษร (คล้ายกับเกม cross word) และ word ซึ่งเป็น string เป็น argument โดยฟังก์ชันนี้ จะค้นหาตามคอลัมน์ของ list เพื่อหาตำแหน่งที่มีอักษรตรงกับคำใน word ถ้าพบ จะส่งคืน row index และ column index ของตัวอักษรแรก ถ้าไม่พบจะส่งคืน None\n",
        "\n",
        "ตัวอย่าง\n",
        "```\n",
        "\tcrosswords=[['s','d','o','g'],\n",
        "              ['c','u','c','m'],\n",
        "              ['a','c','a','t'],\n",
        "              ['t',' e','t','k']]\n",
        "\tword='cat'\n",
        "\tfind_word_vertical(crosswords,word)\n",
        "```\n",
        "\n",
        "Output\n",
        "   [1,0]\n"
      ],
      "metadata": {
        "id": "sDhGHMPsqr6a"
      }
    },
    {
      "cell_type": "code",
      "source": [
        "crosswords=[\n",
        "    ['s','d','o','g'],#[0]\n",
        "    ['c','u','c','m'],#[1][0] ,[1][2]\n",
        "    ['a','c','a','t'],#[2][0] ,[2][2]\n",
        "    ['t','e','t','k'] #[3][0] ,[3][2]\n",
        "]\n",
        "word='cat'\n",
        "\n",
        "def find_word_vertical(crosswords, word):\n",
        "    ans = ''\n",
        "    x = []\n",
        "    for i,row in enumerate(crosswords):\n",
        "        for j,col in enumerate(crosswords):\n",
        "            ans += crosswords[j][i]\n",
        "            x.append(f\"{i},{j}\")\n",
        "\n",
        "        if word in ans:\n",
        "            # print(word,ans)\n",
        "            len_of_word = len(word)\n",
        "            for i in range(len(ans)):\n",
        "                if i < len_of_word and word[i] != ans:\n",
        "                    ans = ans.replace(ans[i], \"\", 1)\n",
        "                    x.pop(i)\n",
        "                    return x[0]\n",
        "        ans = ''\n",
        "        x.clear()\n",
        "    return None\n",
        "\n",
        "print(find_word_vertical(crosswords, word))"
      ],
      "metadata": {
        "id": "R5Jp1CkQrEz9",
        "colab": {
          "base_uri": "https://localhost:8080/"
        },
        "outputId": "0dd43b29-b17f-4aaf-a665-2da52939d92e"
      },
      "execution_count": 10,
      "outputs": [
        {
          "output_type": "stream",
          "name": "stdout",
          "text": [
            "0,1\n"
          ]
        }
      ]
    },
    {
      "cell_type": "markdown",
      "source": [
        "6.\tให้เขียนฟังก์ชัน capitalize_word_in_crossword จะรับ list ขนาด 2 มิติ ของตัวอักษร (คล้ายกับเกม cross word) และ word ซึ่งเป็น string เป็น argument โดยฟังก์ชันนี้ จะค้นหาตาม row และ column ของ list เพื่อหาตำแหน่งที่มีอักษรตรงกับคำใน word ถ้าพบจะเปลี่ยนเป็นตัวใหญ่และ และส่งคืน list ที่แก้ไขแล้ว แต่ถ้าไม่เจอจะส่ง list เดิมกลับมา ให้ใช้ฟังก์ชันตามข้อ 3 และ 4 ช่วย\n",
        "\n",
        "```\n",
        "crosswords=[['s','d','o','g'],\n",
        "            ['c','u','c','m'],\n",
        "            ['a','x','a','t'],\n",
        "            ['t','e','t','k']]\n",
        "word='cat'\n",
        "capitalize_word_in_crossword(crosswords,word)\n",
        "```\n",
        "จะส่งค่ากลับ\n",
        "```\n",
        " [['s','d','o','g'],\n",
        "  ['C','u','c','m'],\n",
        "  ['A','x','a','t'],\n",
        "  ['T','e','t','k']]\n",
        "```\n",
        "```\n",
        "crosswords=[['s','d','o','g'],\n",
        "            ['c','u','c','m'],\n",
        "            ['a','c','a','t'],\n",
        "            ['t','e','t','k']]\n",
        "word='cat'\n",
        "capitalize_word_in_crossword(crosswords,word)\n",
        "จะส่งค่ากลับ                   \n",
        "[['s','d','o','g'],\n",
        " ['c','u','c','m'],\n",
        " ['a','C','A','T'],\n",
        " ['t','e','t','k']]\n",
        "```\n",
        "\n",
        "\n"
      ],
      "metadata": {
        "id": "dinoUBQTrDFp"
      }
    },
    {
      "cell_type": "code",
      "source": [
        "crosswords=[\n",
        "    ['s','d','o','g'],\n",
        "    ['c','u','c','m'],\n",
        "    ['a','c','a','t'],\n",
        "    ['t','e','t','k']\n",
        "]\n",
        "word='cat'\n",
        "\n",
        "def find_word_horizontal(crosswords, word):\n",
        "    ans = ''\n",
        "    x = []\n",
        "    for i,row in enumerate(crosswords):\n",
        "        for j,col in enumerate(crosswords):\n",
        "            ans += crosswords[i][j]\n",
        "            x.append(f\"{i},{j}\")\n",
        "\n",
        "        if word in ans:\n",
        "            # print(word,ans)\n",
        "            len_of_word = len(word)\n",
        "            for i in range(len(ans)):\n",
        "                if i < len_of_word and word[i] != ans:\n",
        "                    ans = ans.replace(ans[i], \"\", 1)\n",
        "                    x.pop(i)\n",
        "                    return x[0]\n",
        "        ans = ''\n",
        "        x.clear()\n",
        "    return False\n",
        "\n",
        "def find_word_vertical(crosswords, word):\n",
        "    ans = ''\n",
        "    x = []\n",
        "    for i,row in enumerate(crosswords):\n",
        "        for j,col in enumerate(crosswords):\n",
        "            ans += crosswords[j][i]\n",
        "            x.append(f\"{i},{j}\")\n",
        "\n",
        "        if word in ans:\n",
        "            # print(word,ans)\n",
        "            len_of_word = len(word)\n",
        "            for i in range(len(ans)):\n",
        "                if i < len_of_word and word[i] != ans:\n",
        "                    ans = ans.replace(ans[i], \"\", 1)\n",
        "                    x.pop(i)\n",
        "                    return x[0]\n",
        "        ans = ''\n",
        "        x.clear()\n",
        "    return False\n",
        "\n",
        "def format_crossword(crosswords):\n",
        "    formatted_output = \"[\\n\"\n",
        "    for row in crosswords:\n",
        "        formatted_output += f\"  {row},\\n\"\n",
        "    formatted_output += \"]\"\n",
        "    return formatted_output\n",
        "\n",
        "def capitalize_word_in_crossword(crosswords, word):\n",
        "    horizontal = find_word_horizontal(crosswords, word)\n",
        "    vertical = find_word_vertical(crosswords, word)\n",
        "    print(horizontal)\n",
        "    print(vertical)\n",
        "    len_of_word = len(word)\n",
        "\n",
        "    if ( horizontal == False and vertical == False) :\n",
        "        return format_crossword(crosswords)\n",
        "\n",
        "    elif ( horizontal == False and vertical == False) :\n",
        "        i, j = map(int, horizontal.split(\",\"))\n",
        "        crosswords_horizontal = crosswords\n",
        "        crosswords_vertical = crosswords\n",
        "        for k in range(len_of_word):\n",
        "            crosswords_horizontal[i][j+k] = crosswords_horizontal[i][j+k].upper()\n",
        "        for k in range(len_of_word):\n",
        "            crosswords[j+k][i] = crosswords[j+k][i].upper()\n",
        "        return format_crossword(crosswords_horizontal),format_crossword(crosswords_vertical)\n",
        "\n",
        "\n",
        "\n",
        "    elif (horizontal != False):\n",
        "        i, j = map(int, horizontal.split(\",\"))\n",
        "        for k in range(len_of_word):\n",
        "            crosswords[i][j+k] = crosswords[i][j+k].upper()\n",
        "        return format_crossword(crosswords)\n",
        "\n",
        "    elif (vertical != False):\n",
        "        i, j = map(int, vertical.split(\",\"))\n",
        "        for k in range(len_of_word):\n",
        "            crosswords[j+k][i] = crosswords[j+k][i].upper()\n",
        "        return format_crossword(crosswords)\n",
        "\n",
        "print(capitalize_word_in_crossword(crosswords, word))"
      ],
      "metadata": {
        "id": "IM99mZNs0css",
        "colab": {
          "base_uri": "https://localhost:8080/"
        },
        "outputId": "183c1f12-2bcf-4154-ecce-87bad53aafa1"
      },
      "execution_count": 11,
      "outputs": [
        {
          "output_type": "stream",
          "name": "stdout",
          "text": [
            "2,1\n",
            "0,1\n",
            "[\n",
            "  ['s', 'd', 'o', 'g'],\n",
            "  ['c', 'u', 'c', 'm'],\n",
            "  ['a', 'C', 'A', 'T'],\n",
            "  ['t', 'e', 't', 'k'],\n",
            "]\n"
          ]
        }
      ]
    }
  ]
}