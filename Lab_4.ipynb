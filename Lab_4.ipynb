{
  "nbformat": 4,
  "nbformat_minor": 0,
  "metadata": {
    "colab": {
      "provenance": [],
      "include_colab_link": true
    },
    "kernelspec": {
      "name": "python3",
      "display_name": "Python 3"
    },
    "language_info": {
      "name": "python"
    }
  },
  "cells": [
    {
      "cell_type": "markdown",
      "metadata": {
        "id": "view-in-github",
        "colab_type": "text"
      },
      "source": [
        "<a href=\"https://colab.research.google.com/github/STARSTEAM-X/LAP_Python/blob/main/Lab_4.ipynb\" target=\"_parent\"><img src=\"https://colab.research.google.com/assets/colab-badge.svg\" alt=\"Open In Colab\"/></a>"
      ]
    },
    {
      "cell_type": "markdown",
      "source": [
        "4.1 2520 คือ ตัวเลขที่น้อยที่สุด ที่สามารถหารด้วยตัวเลขทุกตัวตั้งแต่ 1-10 จงหาจำนวนเต็มบวกที่น้อยที่สุดที่หารด้วยตัวเลขทุกตัวตั้งแต่ 1-20\n",
        "\n",
        "15 = 360360\n",
        "\n",
        "20 = 232792560\n",
        "\n",
        "ปล. ห้าม import math"
      ],
      "metadata": {
        "id": "-bpz7hteQPdz"
      }
    },
    {
      "cell_type": "code",
      "execution_count": null,
      "metadata": {
        "id": "HSZUXcF2QMVn"
      },
      "outputs": [],
      "source": [
        "lcm = 1\n",
        "\n",
        "# คำนวณ ครน. ของทุกตัวเลขในช่วง 1-20\n",
        "for number in numbers = range(1, 21):\n",
        "    a = lcm\n",
        "    b = number\n",
        "\n",
        "    # คำนวณ หรม. โดยใช้ Euclidean algorithm\n",
        "    while b:\n",
        "        a, b = b, a % b\n",
        "    gcd = a\n",
        "\n",
        "    # คำนวณ LCM โดยใช้สูตร lcm = (lcm * number) // gcd\n",
        "    lcm = lcm * number // gcd\n",
        "\n",
        "print(lcm)"
      ]
    },
    {
      "cell_type": "markdown",
      "source": [
        "4.2 จำนวนเฉพาะ (Prime Number) คือตัวเลขที่มีแต่ 1 กับตัวมันเองที่หารลงตัว โดยจำนวนเฉพาะ 6 ตัวแรกคือ 2, 3, 5, 7, 11, 13 โดยจำนวนเฉพาะตัวที่ 6 คือ 13 จงหาจำนวนเฉพาะตัวที่ 101\n",
        "\n",
        "=> 547"
      ],
      "metadata": {
        "id": "Wq1EFYHUWNOA"
      }
    },
    {
      "cell_type": "code",
      "source": [
        "prime_count = 0\n",
        "num = 2\n",
        "prime_101 = 0\n",
        "\n",
        "while prime_count < 101:\n",
        "    is_prime = True\n",
        "\n",
        "    # ตรวจสอบว่าจำนวน num เป็นจำนวนเฉพาะหรือไม่\n",
        "    for i in range(2, int(num**0.5) + 1):\n",
        "        if num % i == 0:\n",
        "            is_prime = False\n",
        "            break\n",
        "\n",
        "    # ถ้าเป็นจำนวนเฉพาะ นับและบันทึกค่า\n",
        "    if is_prime:\n",
        "        prime_count += 1\n",
        "        prime_101 = num\n",
        "\n",
        "    num += 1\n",
        "\n",
        "print(prime_101)"
      ],
      "metadata": {
        "colab": {
          "base_uri": "https://localhost:8080/"
        },
        "id": "cpMa6Vp0Vz_L",
        "outputId": "35009148-2975-43b3-e81a-491acee6195d"
      },
      "execution_count": null,
      "outputs": [
        {
          "output_type": "stream",
          "name": "stdout",
          "text": [
            "547\n"
          ]
        }
      ]
    },
    {
      "cell_type": "markdown",
      "source": [
        "1.\tกำหนดให้มี List หนึ่งประกอบด้วยตัวเลขจำนวนหนึ่ง และ ให้รับตัวเลขจำนวน 1 จำนวน จากนั้นให้หาว่าใน List มีตัวเลข 2 จำนวนใดที่บวกกันเท่ากับตัวเลขที่รับมา ให้แสดงคำตอบเป็น List เช่น Output: [0,1] โดยอาจมีมากกว่า 1 คำตอบ\n",
        "\n",
        "ตัวอย่าง list : [2, 7, 11, 15]\n",
        "\n",
        "Input : 9\n",
        "\n",
        "Output : 2 + 7 = 9 (ถ้าไม่มีให้บอก None)\n"
      ],
      "metadata": {
        "id": "-pUpw-m_WqFG"
      }
    },
    {
      "cell_type": "code",
      "source": [
        "num = int(input(\"\"))\n",
        "lst = []\n",
        "ans = [0,0]\n",
        "i=0\n",
        "while not (ans[0]+ans[1] > num) :\n",
        "    lst.append(i)\n",
        "    for j in lst:\n",
        "        if (num == lst[i]+j):\n",
        "            ans[0] = j\n",
        "            ans[1] = lst[i]\n",
        "            print(f\"{ans[0]} + {ans[1]} = {num}\")\n",
        "    ans[0] = 0\n",
        "    ans[1] = 0\n",
        "    i += 1\n",
        "    if i > num:\n",
        "        break"
      ],
      "metadata": {
        "id": "s3djwBi4ks1g"
      },
      "execution_count": null,
      "outputs": []
    },
    {
      "cell_type": "markdown",
      "source": [
        "2.\tให้เขียนโปรแกรมรับข้อมูล 1 บรรทัด ประกอบด้วยตัวเลข 1 หลัก จำนวนไม่เกิน 10 ตัว คั่นด้วยช่องว่าง จากนั้นให้นำตัวเลขที่รับเข้ามาเรียงกัน และหาลำดับการเรียงที่ทำให้มีค่าน้อยที่สุด โดยต้องไม่ขึ้นต้นด้วย 0\n",
        "\n",
        "Input : 9 4 6 2  \n",
        "\n",
        "คำตอบ 2469\n",
        "\n",
        "Input : 3 0 8 1 3 3\n",
        "\n",
        "คำตอบ : 103338\n"
      ],
      "metadata": {
        "id": "_3yLG291lSFy"
      }
    },
    {
      "cell_type": "code",
      "source": [
        "String_num = input(\"\")\n",
        "lst = []\n",
        "text = \"\"\n",
        "for i in String_num+\" \":\n",
        "    if i == \" \":\n",
        "        if((int(text) > 9) or (int(text) < 0)):\n",
        "            print(\"Error \"+text+\" > 9 Or \"+text+\" < 0\")\n",
        "            break\n",
        "        lst.append(int(text))\n",
        "        text = \"\"\n",
        "    else :\n",
        "        text += i\n",
        "    if len(lst) > 10:\n",
        "        print(\"Error : INPUT COUNT > 10\")\n",
        "        break\n",
        "print(lst)\n",
        "\n",
        "for i in range(len(lst)):\n",
        "    for j in range(len(lst)-i-1):\n",
        "        if lst[j] > lst[j+1]:\n",
        "            lst[j], lst[j+1] = lst[j+1], lst[j]\n",
        "\n",
        "if (lst[0] ==0):\n",
        "    lst[0],lst[1] = lst[1],lst[0]\n",
        "\n",
        "for i in lst:\n",
        "    print(i,end=\"\")"
      ],
      "metadata": {
        "id": "ACtXvMEyli0L"
      },
      "execution_count": null,
      "outputs": []
    },
    {
      "cell_type": "markdown",
      "source": [
        "3.\tจากตัวเลขต่อไปนี้ ตัวเลขติดกัน 4 ตัวที่เมื่อนำมาคูณกันแล้วมีค่ามากที่สุดคือ 9 × 9 × 8 × 9 = 5832\n",
        "\n",
        "73167176531330624919225119674426574742355349194934\n",
        "96983520312774506326239578318016984801869478851843\n",
        "85861560789112949495459501737958331952853208805511\n",
        "12540698747158523863050715693290963295227443043557\n",
        "66896648950445244523161731856403098711121722383113\n",
        "62229893423380308135336276614282806444486645238749\n",
        "30358907296290491560440772390713810515859307960866\n",
        "70172427121883998797908792274921901699720888093776\n",
        "65727333001053367881220235421809751254540594752243\n",
        "52584907711670556013604839586446706324415722155397\n",
        "53697817977846174064955149290862569321978468622482\n",
        "83972241375657056057490261407972968652414535100474\n",
        "82166370484403199890008895243450658541227588666881\n",
        "16427171479924442928230863465674813919123162824586\n",
        "17866458359124566529476545682848912883142607690042\n",
        "24219022671055626321111109370544217506941658960408\n",
        "07198403850962455444362981230987879927244284909188\n",
        "84580156166097919133875499200524063689912560717606\n",
        "05886116467109405077541002256983155200055935729725\n",
        "71636269561882670428252483600823257530420752963450\n",
        "\n",
        "จงหาเลขติดกัน 8 ตัวที่เมื่อนำมาคูณกันแล้วมีค่ามากที่สุด และเป็นเลขอะไร ผลคูณเท่ากับเท่าไร\n",
        "\n",
        "The maximum product is: 7838208\n",
        "The digits are: 88399879\n",
        "\n",
        "\n",
        "\n"
      ],
      "metadata": {
        "id": "Gv8aIY7dliSY"
      }
    },
    {
      "cell_type": "code",
      "source": [
        "string = '7316717653133062491922511967442657474235534919493496983520312774506326239578318016984801869478851843858615607891129494954595017379583319528532088055111254069874715852386305071569329096329522744304355766896648950445244523161731856403098711121722383113622298934233803081353362766142828064444866452387493035890729629049156044077239071381051585930796086670172427121883998797908792274921901699720888093776657273330010533678812202354218097512545405947522435258490771167055601360483958644670632441572215539753697817977846174064955149290862569321978468622482839722413756570560574902614079729686524145351004748216637048440319989000889524345065854122758866688116427171479924442928230863465674813919123162824586178664583591245665294765456828489128831426076900422421902267105562632111110937054421750694165896040807198403850962455444362981230987879927244284909188845801561660979191338754992005240636899125607176060588611646710940507754100225698315520005593572972571636269561882670428252483600823257530420752963450'\n",
        "MAX = None\n",
        "num = 0\n",
        "digit_text = \"\"\n",
        "for i in range(len(string)):\n",
        "    if(i+8 <= len(string)):\n",
        "        num = int(string[i])*int(string[i+1])*int(string[i+2])*int(string[i+3])*int(string[i+4])*int(string[i+5])*int(string[i+6])*int(string[i+7])\n",
        "        if(MAX==None or num >= MAX ):\n",
        "            MAX = num\n",
        "            digit_text= string[i]+string[i+1]+string[i+2]+string[i+3]+string[i+4]+string[i+5]+string[i+6]+string[i+7]\n",
        "\n",
        "print(\"The maximum product is:\",MAX)\n",
        "print(\"The digits are:\",digit_text)"
      ],
      "metadata": {
        "id": "wvVqGMknmBu5"
      },
      "execution_count": null,
      "outputs": []
    },
    {
      "cell_type": "markdown",
      "source": [
        "4.\tตัวเลข palindrome คือตัวเลขที่อ่านได้ทั้ง 2 ทาง แล้วมีค่าเท่ากัน เช่น 9009 โดย 9009 คือ palindrome ที่เกิดจากการคูณของตัวเลข 2 หลักที่มากที่สุด คือ 91x99 จงหา palindrome ที่มากที่สุดของตัวเลข 3 หลัก\n",
        "\n",
        "The largest palindrome product of 3-digit numbers is: 906609\n"
      ],
      "metadata": {
        "id": "fjy5LNC7m0We"
      }
    },
    {
      "cell_type": "code",
      "source": [
        "max_pld = 0\n",
        "for i in range(999, 99, -1):\n",
        "    for j in range(i, 99, -1):\n",
        "        ans = i * j\n",
        "        if ((str(ans) == str(ans)[::-1]) and (ans > max_pld)):\n",
        "                max_pld = ans\n",
        "\n",
        "print(\"The largest palindrome product of 3-digit numbers is:\",max_pld)"
      ],
      "metadata": {
        "id": "y-QY3hzVmsud"
      },
      "execution_count": null,
      "outputs": []
    },
    {
      "cell_type": "markdown",
      "source": [
        "5.\tกำหนดให้ string มีเพียงสัญลักษณ์ '(', ')', '{', '}', '[' และ ']' ให้ตรวจสอบว่า String ถูกต้อง โดย เมื่อมีวงเล็บเปิด จะต้องมีวงเล็บปิดที่เป็นชนิดเดียวกัน จำนวนเท่ากันที่เป็นคู่ของมัน\n",
        "\n",
        "```\n",
        "Input: s = \"()\"\n",
        "Output: true\n",
        "Input: s = \"()[]{}\"\n",
        "Output: true\n",
        "Input: s = \"[()]{}\"\n",
        "Output: true\n",
        "Input: s = \"(]\"\n",
        "Output: false\n",
        "```\n",
        "\n",
        "\n"
      ],
      "metadata": {
        "id": "rUZvLJ-JnGJY"
      }
    },
    {
      "cell_type": "code",
      "source": [
        "\n",
        "INPUT = input()\n",
        "STACK = []\n",
        "for char in INPUT:\n",
        "    if char in '({[':\n",
        "        STACK.append(char)\n",
        "    else:\n",
        "        if not STACK:\n",
        "            STACK.clear()\n",
        "        STACK.pop()\n",
        "print(not STACK)"
      ],
      "metadata": {
        "id": "Ku8ts4x7nk1y"
      },
      "execution_count": null,
      "outputs": []
    },
    {
      "cell_type": "markdown",
      "source": [
        "6.\tกำหนดให้รับข้อมูล Integer (เป็นบวกหรือลบก็ได้) จากนั้นให้แสดงผลลัพธ์ที่ reverse ตัวเลขตามตัวอย่าง\n",
        "\n",
        "```\n",
        "Input: x = 123\n",
        "Output: 321\n",
        "Input: x = -123\n",
        "Output: -321\n",
        "Input: x = 120\n",
        "Output: 21\n",
        "```\n",
        "\n"
      ],
      "metadata": {
        "id": "PLL9Wdqqnx7o"
      }
    },
    {
      "cell_type": "code",
      "source": [
        "x = input(\"INPUT X = \")\n",
        "lst_num = [\"-\",\"0\",\"1\",\"2\",\"3\",\"4\",\"5\",\"6\",\"7\",\"8\",\"9\"]\n",
        "\n",
        "text =\"\"\n",
        "string= \"\"\n",
        "stage = True\n",
        "for i in x :\n",
        "    if (i not in lst_num):\n",
        "        print(\"ERROR YOUR INPUT NOT 0-9\")\n",
        "        stage = False\n",
        "    else:\n",
        "        if i == \"-\":\n",
        "            text = i\n",
        "        else:\n",
        "            string += i\n",
        "\n",
        "if (stage):\n",
        "    ans = string[::-1]\n",
        "    if(ans[-1]==\"0\"and len(ans) >=2):\n",
        "        ans = ans[:-1]\n",
        "    if(ans==\"0\"):\n",
        "        text = \"\"\n",
        "    print(F\"{text}{int(ans)}\")"
      ],
      "metadata": {
        "id": "yAwXAC-0lKwU"
      },
      "execution_count": null,
      "outputs": []
    },
    {
      "cell_type": "markdown",
      "source": [
        "7.\tเขียนโปรแกรมเพื่อแสดงปิรามิดบนจอภาพ โดยแสดงเป็นรูปสี่เหลี่ยม ตัวเลขเริ่มจาก 0  และเพิ่มค่าตามลําดับจํานวนขั้น จาก 0 ถึง N (รับค่า N จากคีย์บอร์ด) ค่าของ N อยู่ระหว่าง 0-9 ดังตัวอย่าง\n",
        "\n",
        "\n",
        "```\n",
        "\t\t\t\t\t\t\t\t\t         0000000\n",
        "\t\t\t\t\t\t\t    00000\t\t0111110\n",
        "\t\t\t\t\t000\t\t 01110\t\t0122210\n",
        "\t\t\t0\t\t010\t\t01210\t\t0123210\n",
        "\t\t\t\t\t000\t\t 01110\t\t0122210\n",
        "\t\t\t\t\t\t\t    00000\t\t0111110\n",
        "\t\t\t\t\t\t\t\t\t         0000000\n",
        "\n",
        "\t\t\tn=0\t\tn=1\t\tn=2\t\tn=3\n",
        "\n",
        "```\n",
        "\n"
      ],
      "metadata": {
        "id": "KboD6c8rn52a"
      }
    },
    {
      "cell_type": "code",
      "source": [
        "n = 3\n",
        "size = 2 * n + 1\n",
        "\n",
        "for row in range(1, size + 1):\n",
        "    for col in range(1, size + 1):\n",
        "        if row == 1 or row == size or col == 1 or col == size:\n",
        "            print(\"0\", end=\"\")\n",
        "        elif (2 <= row <= size - 1) and (2 <= col <= size - 1):\n",
        "            num = min(row-1, col-1, size-row, size-col) + 1\n",
        "            if row == n + 1 and col == n + 1:\n",
        "                print(n, end=\"\")\n",
        "            else:\n",
        "                print(num-1, end=\"\")\n",
        "        else:\n",
        "            print(\" \", end=\"\")\n",
        "    print()"
      ],
      "metadata": {
        "id": "sGhw6Iyfobiz"
      },
      "execution_count": null,
      "outputs": []
    },
    {
      "cell_type": "markdown",
      "source": [
        "8.\tเขียนโปรแกรมเพื่อแสดงปิรามิดบนจอภาพ โดยแสดงเป็นรูปสี่เหลี่ยม ตัวเลขเริ่มจาก 0  และเพิ่มค่าตามลําดับจํานวนขั้น จาก 0 ถึง N (รับค่า N จากคีย์บอร์ด) กําหนดให้จุดศูนย์กลางของรูปสี่เหลี่ยมอยู่ที่แถว 13 คอลัมน์ 40 ของจอภาพค่าของ N อยู่ระหว่าง 0-9 ดังตัวอย่าง\n",
        "\n",
        "\n",
        "\n",
        "```\n",
        "\t\t\t\t\t\t\t\t\t            0\n",
        "\t\t\t\t\t\t\t      0\t\t    010\n",
        "\t\t\t\t\t  0\t\t  010\t\t  01210\n",
        "\t\t\t0\t\t010\t\t01210\t\t0123210\n",
        "\t\t\t\t\t  0\t\t  010\t\t  01210\n",
        "\t\t\t\t\t\t\t      0\t\t    010\n",
        "\t\t\t\t\t\t\t\t\t            0\n",
        "\n",
        "\t\t\tn=0\t\tn=1\t\tn=2\t\tn=3\n",
        "\n",
        "```\n",
        "\n"
      ],
      "metadata": {
        "id": "ecRYU6Lkob6Q"
      }
    },
    {
      "cell_type": "code",
      "source": [
        "n = int(input(\"\"))\n",
        "\n",
        "for row in range(n): #if 3 0,1,2,3\n",
        "    for space in range(n-row): # สร้างเว็นวรรค 0 01 01 ไม่ทำ\n",
        "        print(\" \", end=\" \")\n",
        "    for col in range(row+1): # 0,1,2,3 = 4\n",
        "        print(col, end=\" \")\n",
        "\n",
        "    #mirror Y-Axis\n",
        "    for col in range(row)[::-1]: #reversed\n",
        "        print(col, end=\" \")\n",
        "    print()\n",
        "\n",
        "#mirror X-Axis\n",
        "for row in range(n,-1,-1): #reversed\n",
        "    for space in range(n-row):\n",
        "        print(\" \", end=\" \")\n",
        "    for col in range(row+1):\n",
        "        print(col, end=\" \")\n",
        "\n",
        "    #mirror Y-Axis\n",
        "    for col in range(row)[::-1]:\n",
        "        print(col, end=\" \")\n",
        "    print()"
      ],
      "metadata": {
        "id": "Q8tI5xOVlPSJ"
      },
      "execution_count": null,
      "outputs": []
    },
    {
      "cell_type": "markdown",
      "source": [
        "9.\tให้เขียนโปรแกรมสร้างรูปสามเหลี่ยมที่วางซ้อนกัน 3 รูป โดยแต่ละรูปสร้างมาจากเครื่องหมาย \"*\" โดยกําหนดให้รับตัวเลขระดับของสามเหลี่ยมจากคีย์บอร์ด จากตัวอย่างข้างล่างนี้เป็นรูปสามเหลี่ยมระดับที่ 3 และ 4\n",
        "\n",
        "\n",
        "\n",
        "```\n",
        "              *\n",
        "\t\t     ***\n",
        "\t\t    *****\n",
        "\t\t   *     *\n",
        "\t      ***   ***\n",
        "\t     ***** *****\n",
        "\n",
        "  \t\t    *\n",
        "\t  \t   ***\n",
        "\t\t    *****\n",
        "\t\t   *******\n",
        "\t      *       *\n",
        "\t     ***     ***\n",
        "\t    *****   *****\n",
        "\t   ******* *******\n",
        "\n",
        "```\n",
        "\n"
      ],
      "metadata": {
        "id": "Po50A-Kuo5t4"
      }
    },
    {
      "cell_type": "code",
      "source": [
        "num = int(input(\"Row : \"))\n",
        "for i in range(num):\n",
        "    for j in range((num*2)-i-1):\n",
        "        print(' ',end=\"\")\n",
        "    for j in range(i+1):\n",
        "        print('*',end=\"\")\n",
        "    for j in range(i):\n",
        "        print('*',end=\"\")\n",
        "    print()\n",
        "for i in range(num):\n",
        "    for j in range(num-i-1):\n",
        "        print(' ',end=\"\")\n",
        "    for j in range(i+1):\n",
        "        print('*',end=\"\")\n",
        "    for j in range(i):\n",
        "        print('*',end=\"\")\n",
        "    for j in range(num-i):\n",
        "        print(' ',end=\"\")\n",
        "    for j in range(num-i-1):\n",
        "        print(' ',end=\"\")\n",
        "    for j in range(i+1):\n",
        "        print('*',end=\"\")\n",
        "    for j in range(i):\n",
        "        print('*',end=\"\")\n",
        "    print()"
      ],
      "metadata": {
        "id": "7b9iXYKwlQ3X"
      },
      "execution_count": null,
      "outputs": []
    }
  ]
}